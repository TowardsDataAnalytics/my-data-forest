{
 "cells": [
  {
   "cell_type": "markdown",
   "id": "5eb9a67b",
   "metadata": {},
   "source": [
    "# The World Factbook Analysis in Jupyter\n",
    "\n",
    "* Found this CIA's World Factbook data set (2015) as \"Single-File SQLite\" on Git and enabled magic functions to be able to use SQL in Jupyter environment. Made some data quality & exploratory analysis\n",
    "\n",
    "https://github.com/factbook/factbook.sql/releases\n",
    " "
   ]
  },
  {
   "cell_type": "code",
   "execution_count": 71,
   "id": "c7d6e9e6",
   "metadata": {},
   "outputs": [],
   "source": [
    "%%capture\n",
    "%load_ext sql\n",
    "%sql sqlite:///factbook.db\n"
   ]
  },
  {
   "cell_type": "code",
   "execution_count": 67,
   "id": "2aa6ba2f",
   "metadata": {},
   "outputs": [
    {
     "name": "stdout",
     "output_type": "stream",
     "text": [
      " * sqlite:///factbook.db\n",
      "Done.\n"
     ]
    },
    {
     "data": {
      "text/html": [
       "<table>\n",
       "    <tr>\n",
       "        <th>type</th>\n",
       "        <th>name</th>\n",
       "        <th>tbl_name</th>\n",
       "        <th>rootpage</th>\n",
       "        <th>sql</th>\n",
       "    </tr>\n",
       "    <tr>\n",
       "        <td>table</td>\n",
       "        <td>sqlite_sequence</td>\n",
       "        <td>sqlite_sequence</td>\n",
       "        <td>3</td>\n",
       "        <td>CREATE TABLE sqlite_sequence(name,seq)</td>\n",
       "    </tr>\n",
       "    <tr>\n",
       "        <td>table</td>\n",
       "        <td>facts</td>\n",
       "        <td>facts</td>\n",
       "        <td>47</td>\n",
       "        <td>CREATE TABLE &quot;facts&quot; (&quot;id&quot; INTEGER PRIMARY KEY AUTOINCREMENT NOT NULL, &quot;code&quot; varchar(255) NOT NULL, &quot;name&quot; varchar(255) NOT NULL, &quot;area&quot; integer, &quot;area_land&quot; integer, &quot;area_water&quot; integer, &quot;population&quot; integer, &quot;population_growth&quot; float, &quot;birth_rate&quot; float, &quot;death_rate&quot; float, &quot;migration_rate&quot; float)</td>\n",
       "    </tr>\n",
       "</table>"
      ],
      "text/plain": [
       "[('table', 'sqlite_sequence', 'sqlite_sequence', 3, 'CREATE TABLE sqlite_sequence(name,seq)'),\n",
       " ('table', 'facts', 'facts', 47, 'CREATE TABLE \"facts\" (\"id\" INTEGER PRIMARY KEY AUTOINCREMENT NOT NULL, \"code\" varchar(255) NOT NULL, \"name\" varchar(255) NOT NULL, \"area\" integer, \"a ... (4 characters truncated) ... land\" integer, \"area_water\" integer, \"population\" integer, \"population_growth\" float, \"birth_rate\" float, \"death_rate\" float, \"migration_rate\" float)')]"
      ]
     },
     "execution_count": 67,
     "metadata": {},
     "output_type": "execute_result"
    }
   ],
   "source": [
    "%%sql\n",
    "\n",
    "SELECT *\n",
    "  FROM sqlite_master\n",
    " WHERE type='table'; \n"
   ]
  },
  {
   "cell_type": "markdown",
   "id": "93f19d70",
   "metadata": {},
   "source": [
    "# Exploratory analysis in SQL & Pandas:"
   ]
  },
  {
   "cell_type": "code",
   "execution_count": 195,
   "id": "c56807e1",
   "metadata": {},
   "outputs": [
    {
     "name": "stdout",
     "output_type": "stream",
     "text": [
      " * sqlite:///factbook.db\n",
      "Done.\n"
     ]
    },
    {
     "data": {
      "text/html": [
       "<table>\n",
       "    <tr>\n",
       "        <th>id</th>\n",
       "        <th>code</th>\n",
       "        <th>name</th>\n",
       "        <th>area</th>\n",
       "        <th>area_land</th>\n",
       "        <th>area_water</th>\n",
       "        <th>population</th>\n",
       "        <th>population_growth</th>\n",
       "        <th>birth_rate</th>\n",
       "        <th>death_rate</th>\n",
       "        <th>migration_rate</th>\n",
       "    </tr>\n",
       "    <tr>\n",
       "        <td>1</td>\n",
       "        <td>af</td>\n",
       "        <td>Afghanistan</td>\n",
       "        <td>652230</td>\n",
       "        <td>652230</td>\n",
       "        <td>0</td>\n",
       "        <td>32564342</td>\n",
       "        <td>2.32</td>\n",
       "        <td>38.57</td>\n",
       "        <td>13.89</td>\n",
       "        <td>1.51</td>\n",
       "    </tr>\n",
       "    <tr>\n",
       "        <td>2</td>\n",
       "        <td>al</td>\n",
       "        <td>Albania</td>\n",
       "        <td>28748</td>\n",
       "        <td>27398</td>\n",
       "        <td>1350</td>\n",
       "        <td>3029278</td>\n",
       "        <td>0.3</td>\n",
       "        <td>12.92</td>\n",
       "        <td>6.58</td>\n",
       "        <td>3.3</td>\n",
       "    </tr>\n",
       "    <tr>\n",
       "        <td>3</td>\n",
       "        <td>ag</td>\n",
       "        <td>Algeria</td>\n",
       "        <td>2381741</td>\n",
       "        <td>2381741</td>\n",
       "        <td>0</td>\n",
       "        <td>39542166</td>\n",
       "        <td>1.84</td>\n",
       "        <td>23.67</td>\n",
       "        <td>4.31</td>\n",
       "        <td>0.92</td>\n",
       "    </tr>\n",
       "    <tr>\n",
       "        <td>4</td>\n",
       "        <td>an</td>\n",
       "        <td>Andorra</td>\n",
       "        <td>468</td>\n",
       "        <td>468</td>\n",
       "        <td>0</td>\n",
       "        <td>85580</td>\n",
       "        <td>0.12</td>\n",
       "        <td>8.13</td>\n",
       "        <td>6.96</td>\n",
       "        <td>0.0</td>\n",
       "    </tr>\n",
       "    <tr>\n",
       "        <td>5</td>\n",
       "        <td>ao</td>\n",
       "        <td>Angola</td>\n",
       "        <td>1246700</td>\n",
       "        <td>1246700</td>\n",
       "        <td>0</td>\n",
       "        <td>19625353</td>\n",
       "        <td>2.78</td>\n",
       "        <td>38.78</td>\n",
       "        <td>11.49</td>\n",
       "        <td>0.46</td>\n",
       "    </tr>\n",
       "    <tr>\n",
       "        <td>6</td>\n",
       "        <td>ac</td>\n",
       "        <td>Antigua and Barbuda</td>\n",
       "        <td>442</td>\n",
       "        <td>442</td>\n",
       "        <td>0</td>\n",
       "        <td>92436</td>\n",
       "        <td>1.24</td>\n",
       "        <td>15.85</td>\n",
       "        <td>5.69</td>\n",
       "        <td>2.21</td>\n",
       "    </tr>\n",
       "    <tr>\n",
       "        <td>7</td>\n",
       "        <td>ar</td>\n",
       "        <td>Argentina</td>\n",
       "        <td>2780400</td>\n",
       "        <td>2736690</td>\n",
       "        <td>43710</td>\n",
       "        <td>43431886</td>\n",
       "        <td>0.93</td>\n",
       "        <td>16.64</td>\n",
       "        <td>7.33</td>\n",
       "        <td>0.0</td>\n",
       "    </tr>\n",
       "    <tr>\n",
       "        <td>8</td>\n",
       "        <td>am</td>\n",
       "        <td>Armenia</td>\n",
       "        <td>29743</td>\n",
       "        <td>28203</td>\n",
       "        <td>1540</td>\n",
       "        <td>3056382</td>\n",
       "        <td>0.15</td>\n",
       "        <td>13.61</td>\n",
       "        <td>9.34</td>\n",
       "        <td>5.8</td>\n",
       "    </tr>\n",
       "    <tr>\n",
       "        <td>9</td>\n",
       "        <td>as</td>\n",
       "        <td>Australia</td>\n",
       "        <td>7741220</td>\n",
       "        <td>7682300</td>\n",
       "        <td>58920</td>\n",
       "        <td>22751014</td>\n",
       "        <td>1.07</td>\n",
       "        <td>12.15</td>\n",
       "        <td>7.14</td>\n",
       "        <td>5.65</td>\n",
       "    </tr>\n",
       "    <tr>\n",
       "        <td>10</td>\n",
       "        <td>au</td>\n",
       "        <td>Austria</td>\n",
       "        <td>83871</td>\n",
       "        <td>82445</td>\n",
       "        <td>1426</td>\n",
       "        <td>8665550</td>\n",
       "        <td>0.55</td>\n",
       "        <td>9.41</td>\n",
       "        <td>9.42</td>\n",
       "        <td>5.56</td>\n",
       "    </tr>\n",
       "</table>"
      ],
      "text/plain": [
       "[(1, 'af', 'Afghanistan', 652230, 652230, 0, 32564342, 2.32, 38.57, 13.89, 1.51),\n",
       " (2, 'al', 'Albania', 28748, 27398, 1350, 3029278, 0.3, 12.92, 6.58, 3.3),\n",
       " (3, 'ag', 'Algeria', 2381741, 2381741, 0, 39542166, 1.84, 23.67, 4.31, 0.92),\n",
       " (4, 'an', 'Andorra', 468, 468, 0, 85580, 0.12, 8.13, 6.96, 0.0),\n",
       " (5, 'ao', 'Angola', 1246700, 1246700, 0, 19625353, 2.78, 38.78, 11.49, 0.46),\n",
       " (6, 'ac', 'Antigua and Barbuda', 442, 442, 0, 92436, 1.24, 15.85, 5.69, 2.21),\n",
       " (7, 'ar', 'Argentina', 2780400, 2736690, 43710, 43431886, 0.93, 16.64, 7.33, 0.0),\n",
       " (8, 'am', 'Armenia', 29743, 28203, 1540, 3056382, 0.15, 13.61, 9.34, 5.8),\n",
       " (9, 'as', 'Australia', 7741220, 7682300, 58920, 22751014, 1.07, 12.15, 7.14, 5.65),\n",
       " (10, 'au', 'Austria', 83871, 82445, 1426, 8665550, 0.55, 9.41, 9.42, 5.56)]"
      ]
     },
     "execution_count": 195,
     "metadata": {},
     "output_type": "execute_result"
    }
   ],
   "source": [
    "%%sql \n",
    "SELECT *\n",
    "FROM facts\n",
    "LIMIT 10\n"
   ]
  },
  {
   "cell_type": "markdown",
   "id": "32509997",
   "metadata": {},
   "source": [
    "# 1 Inspecting the total number of rows:"
   ]
  },
  {
   "cell_type": "code",
   "execution_count": 44,
   "id": "a74c4456",
   "metadata": {},
   "outputs": [
    {
     "name": "stdout",
     "output_type": "stream",
     "text": [
      " * sqlite:///factbook.db\n",
      "Done.\n"
     ]
    },
    {
     "data": {
      "text/html": [
       "<table>\n",
       "    <tr>\n",
       "        <th>COUNT (*)</th>\n",
       "    </tr>\n",
       "    <tr>\n",
       "        <td>261</td>\n",
       "    </tr>\n",
       "</table>"
      ],
      "text/plain": [
       "[(261,)]"
      ]
     },
     "execution_count": 44,
     "metadata": {},
     "output_type": "execute_result"
    }
   ],
   "source": [
    "%%sql\n",
    "SELECT COUNT (*)\n",
    "  FROM facts"
   ]
  },
  {
   "cell_type": "markdown",
   "id": "0288dcfd",
   "metadata": {},
   "source": [
    "# 2 Inspecting the number of unique countries:\n",
    "\n",
    "* If the same as total number of rows no duplicates"
   ]
  },
  {
   "cell_type": "code",
   "execution_count": 49,
   "id": "58edce2f",
   "metadata": {},
   "outputs": [
    {
     "name": "stdout",
     "output_type": "stream",
     "text": [
      " * sqlite:///factbook.db\n",
      "Done.\n"
     ]
    },
    {
     "data": {
      "text/html": [
       "<table>\n",
       "    <tr>\n",
       "        <th>COUNT (DISTINCT name)</th>\n",
       "    </tr>\n",
       "    <tr>\n",
       "        <td>261</td>\n",
       "    </tr>\n",
       "</table>"
      ],
      "text/plain": [
       "[(261,)]"
      ]
     },
     "execution_count": 49,
     "metadata": {},
     "output_type": "execute_result"
    }
   ],
   "source": [
    "%%sql\n",
    "SELECT COUNT (DISTINCT name)\n",
    "  FROM facts"
   ]
  },
  {
   "cell_type": "markdown",
   "id": "13ba77d4",
   "metadata": {},
   "source": [
    "# 3 Checking again for duplicates:"
   ]
  },
  {
   "cell_type": "code",
   "execution_count": 50,
   "id": "db8f8c97",
   "metadata": {},
   "outputs": [
    {
     "name": "stdout",
     "output_type": "stream",
     "text": [
      " * sqlite:///factbook.db\n",
      "Done.\n"
     ]
    },
    {
     "data": {
      "text/html": [
       "<table>\n",
       "    <tr>\n",
       "        <th>code</th>\n",
       "        <th>name</th>\n",
       "        <th>COUNT (*)</th>\n",
       "    </tr>\n",
       "</table>"
      ],
      "text/plain": [
       "[]"
      ]
     },
     "execution_count": 50,
     "metadata": {},
     "output_type": "execute_result"
    }
   ],
   "source": [
    "%%sql\n",
    "SELECT code, name, COUNT (*)\n",
    " from facts\n",
    "    GROUP BY code, name\n",
    "    HAVING COUNT(*) > 1"
   ]
  },
  {
   "cell_type": "markdown",
   "id": "23ecef32",
   "metadata": {},
   "source": [
    "# 4 Checking for NULL values:"
   ]
  },
  {
   "cell_type": "code",
   "execution_count": 53,
   "id": "9d1ede02",
   "metadata": {},
   "outputs": [
    {
     "name": "stdout",
     "output_type": "stream",
     "text": [
      " * sqlite:///factbook.db\n",
      "Done.\n"
     ]
    },
    {
     "data": {
      "text/html": [
       "<table>\n",
       "    <tr>\n",
       "        <th>id</th>\n",
       "        <th>code</th>\n",
       "        <th>name</th>\n",
       "        <th>area</th>\n",
       "        <th>area_land</th>\n",
       "        <th>area_water</th>\n",
       "        <th>population</th>\n",
       "        <th>population_growth</th>\n",
       "        <th>birth_rate</th>\n",
       "        <th>death_rate</th>\n",
       "        <th>migration_rate</th>\n",
       "    </tr>\n",
       "    <tr>\n",
       "        <td>210</td>\n",
       "        <td>fs</td>\n",
       "        <td>French Southern and Antarctic Lands</td>\n",
       "        <td>None</td>\n",
       "        <td>None</td>\n",
       "        <td>None</td>\n",
       "        <td>None</td>\n",
       "        <td>None</td>\n",
       "        <td>None</td>\n",
       "        <td>None</td>\n",
       "        <td>None</td>\n",
       "    </tr>\n",
       "    <tr>\n",
       "        <td>249</td>\n",
       "        <td>um</td>\n",
       "        <td>United States Pacific Island Wildlife Refuges</td>\n",
       "        <td>None</td>\n",
       "        <td>None</td>\n",
       "        <td>None</td>\n",
       "        <td>None</td>\n",
       "        <td>None</td>\n",
       "        <td>None</td>\n",
       "        <td>None</td>\n",
       "        <td>None</td>\n",
       "    </tr>\n",
       "    <tr>\n",
       "        <td>256</td>\n",
       "        <td>xq</td>\n",
       "        <td>Arctic Ocean</td>\n",
       "        <td>None</td>\n",
       "        <td>None</td>\n",
       "        <td>None</td>\n",
       "        <td>None</td>\n",
       "        <td>None</td>\n",
       "        <td>None</td>\n",
       "        <td>None</td>\n",
       "        <td>None</td>\n",
       "    </tr>\n",
       "    <tr>\n",
       "        <td>257</td>\n",
       "        <td>zh</td>\n",
       "        <td>Atlantic Ocean</td>\n",
       "        <td>None</td>\n",
       "        <td>None</td>\n",
       "        <td>None</td>\n",
       "        <td>None</td>\n",
       "        <td>None</td>\n",
       "        <td>None</td>\n",
       "        <td>None</td>\n",
       "        <td>None</td>\n",
       "    </tr>\n",
       "    <tr>\n",
       "        <td>258</td>\n",
       "        <td>xo</td>\n",
       "        <td>Indian Ocean</td>\n",
       "        <td>None</td>\n",
       "        <td>None</td>\n",
       "        <td>None</td>\n",
       "        <td>None</td>\n",
       "        <td>None</td>\n",
       "        <td>None</td>\n",
       "        <td>None</td>\n",
       "        <td>None</td>\n",
       "    </tr>\n",
       "    <tr>\n",
       "        <td>259</td>\n",
       "        <td>zn</td>\n",
       "        <td>Pacific Ocean</td>\n",
       "        <td>None</td>\n",
       "        <td>None</td>\n",
       "        <td>None</td>\n",
       "        <td>None</td>\n",
       "        <td>None</td>\n",
       "        <td>None</td>\n",
       "        <td>None</td>\n",
       "        <td>None</td>\n",
       "    </tr>\n",
       "    <tr>\n",
       "        <td>260</td>\n",
       "        <td>oo</td>\n",
       "        <td>Southern Ocean</td>\n",
       "        <td>None</td>\n",
       "        <td>None</td>\n",
       "        <td>None</td>\n",
       "        <td>None</td>\n",
       "        <td>None</td>\n",
       "        <td>None</td>\n",
       "        <td>None</td>\n",
       "        <td>None</td>\n",
       "    </tr>\n",
       "</table>"
      ],
      "text/plain": [
       "[(210, 'fs', 'French Southern and Antarctic Lands', None, None, None, None, None, None, None, None),\n",
       " (249, 'um', 'United States Pacific Island Wildlife Refuges', None, None, None, None, None, None, None, None),\n",
       " (256, 'xq', 'Arctic Ocean', None, None, None, None, None, None, None, None),\n",
       " (257, 'zh', 'Atlantic Ocean', None, None, None, None, None, None, None, None),\n",
       " (258, 'xo', 'Indian Ocean', None, None, None, None, None, None, None, None),\n",
       " (259, 'zn', 'Pacific Ocean', None, None, None, None, None, None, None, None),\n",
       " (260, 'oo', 'Southern Ocean', None, None, None, None, None, None, None, None)]"
      ]
     },
     "execution_count": 53,
     "metadata": {},
     "output_type": "execute_result"
    }
   ],
   "source": [
    "%%sql\n",
    "SELECT * \n",
    "FROM facts \n",
    "WHERE coalesce (area, area_land, area_water, population, population_growth, birth_rate, death_rate , migration_rate)\n",
    "IS NULL\n"
   ]
  },
  {
   "cell_type": "markdown",
   "id": "6e9cf983",
   "metadata": {},
   "source": [
    "# 5 Leaving out the rows that have null across all the columns (e.g.oceans):\n",
    "\n",
    "* There are still some left with \"None\" across the cells (e.g. countries that are not populated etc.)"
   ]
  },
  {
   "cell_type": "code",
   "execution_count": 194,
   "id": "0debae9f",
   "metadata": {},
   "outputs": [
    {
     "name": "stdout",
     "output_type": "stream",
     "text": [
      " * sqlite:///factbook.db\n",
      "Done.\n"
     ]
    },
    {
     "data": {
      "text/html": [
       "<table>\n",
       "    <tr>\n",
       "        <th>id</th>\n",
       "        <th>code</th>\n",
       "        <th>name</th>\n",
       "        <th>area</th>\n",
       "        <th>area_land</th>\n",
       "        <th>area_water</th>\n",
       "        <th>population</th>\n",
       "        <th>population_growth</th>\n",
       "        <th>birth_rate</th>\n",
       "        <th>death_rate</th>\n",
       "        <th>migration_rate</th>\n",
       "    </tr>\n",
       "    <tr>\n",
       "        <td>1</td>\n",
       "        <td>af</td>\n",
       "        <td>Afghanistan</td>\n",
       "        <td>652230</td>\n",
       "        <td>652230</td>\n",
       "        <td>0</td>\n",
       "        <td>32564342</td>\n",
       "        <td>2.32</td>\n",
       "        <td>38.57</td>\n",
       "        <td>13.89</td>\n",
       "        <td>1.51</td>\n",
       "    </tr>\n",
       "    <tr>\n",
       "        <td>2</td>\n",
       "        <td>al</td>\n",
       "        <td>Albania</td>\n",
       "        <td>28748</td>\n",
       "        <td>27398</td>\n",
       "        <td>1350</td>\n",
       "        <td>3029278</td>\n",
       "        <td>0.3</td>\n",
       "        <td>12.92</td>\n",
       "        <td>6.58</td>\n",
       "        <td>3.3</td>\n",
       "    </tr>\n",
       "    <tr>\n",
       "        <td>3</td>\n",
       "        <td>ag</td>\n",
       "        <td>Algeria</td>\n",
       "        <td>2381741</td>\n",
       "        <td>2381741</td>\n",
       "        <td>0</td>\n",
       "        <td>39542166</td>\n",
       "        <td>1.84</td>\n",
       "        <td>23.67</td>\n",
       "        <td>4.31</td>\n",
       "        <td>0.92</td>\n",
       "    </tr>\n",
       "    <tr>\n",
       "        <td>4</td>\n",
       "        <td>an</td>\n",
       "        <td>Andorra</td>\n",
       "        <td>468</td>\n",
       "        <td>468</td>\n",
       "        <td>0</td>\n",
       "        <td>85580</td>\n",
       "        <td>0.12</td>\n",
       "        <td>8.13</td>\n",
       "        <td>6.96</td>\n",
       "        <td>0.0</td>\n",
       "    </tr>\n",
       "    <tr>\n",
       "        <td>5</td>\n",
       "        <td>ao</td>\n",
       "        <td>Angola</td>\n",
       "        <td>1246700</td>\n",
       "        <td>1246700</td>\n",
       "        <td>0</td>\n",
       "        <td>19625353</td>\n",
       "        <td>2.78</td>\n",
       "        <td>38.78</td>\n",
       "        <td>11.49</td>\n",
       "        <td>0.46</td>\n",
       "    </tr>\n",
       "</table>"
      ],
      "text/plain": [
       "[(1, 'af', 'Afghanistan', 652230, 652230, 0, 32564342, 2.32, 38.57, 13.89, 1.51),\n",
       " (2, 'al', 'Albania', 28748, 27398, 1350, 3029278, 0.3, 12.92, 6.58, 3.3),\n",
       " (3, 'ag', 'Algeria', 2381741, 2381741, 0, 39542166, 1.84, 23.67, 4.31, 0.92),\n",
       " (4, 'an', 'Andorra', 468, 468, 0, 85580, 0.12, 8.13, 6.96, 0.0),\n",
       " (5, 'ao', 'Angola', 1246700, 1246700, 0, 19625353, 2.78, 38.78, 11.49, 0.46)]"
      ]
     },
     "execution_count": 194,
     "metadata": {},
     "output_type": "execute_result"
    }
   ],
   "source": [
    "%%sql\n",
    "SELECT * \n",
    "FROM facts \n",
    "WHERE coalesce (area, area_land, area_water, population_growth, birth_rate, death_rate , migration_rate)\n",
    "IS NOT NULL\n",
    "LIMIT 5\n"
   ]
  },
  {
   "cell_type": "markdown",
   "id": "eef41fa7",
   "metadata": {},
   "source": [
    "# 6 Looking for for outliers, using z-score:\n",
    "\n",
    "* Issue below is that \"stdev\" is not on the list of aggregate functions in sql lite, see error &  https://www.sqlite.org/lang_aggfunc.html \n",
    "\n",
    "* That's why I'll switch to Pandas to deal with outliers."
   ]
  },
  {
   "cell_type": "code",
   "execution_count": 143,
   "id": "ea954b39",
   "metadata": {},
   "outputs": [
    {
     "name": "stdout",
     "output_type": "stream",
     "text": [
      " * sqlite:///factbook.db\n",
      "(sqlite3.OperationalError) no such function: stdev\n",
      "[SQL: SELECT name, (area, area - avg(area)) / stdev(area)\n",
      "   from (SELECT * \n",
      "FROM facts \n",
      "WHERE coalesce (area, area_land, area_water, population, population_growth, birth_rate, death_rate , migration_rate)\n",
      "IS NOT NULL)]\n",
      "(Background on this error at: http://sqlalche.me/e/14/e3q8)\n"
     ]
    }
   ],
   "source": [
    "%%sql\n",
    "SELECT name, (area, area - avg(area)) / stdev(area)\n",
    "   from (SELECT * \n",
    "FROM facts \n",
    "WHERE coalesce (area, area_land, area_water, population, population_growth, birth_rate, death_rate , migration_rate)\n",
    "IS NOT NULL)\n",
    "    "
   ]
  },
  {
   "cell_type": "markdown",
   "id": "10d96f2d",
   "metadata": {},
   "source": [
    "# 7 Working with data frames in Pandas "
   ]
  },
  {
   "cell_type": "code",
   "execution_count": 232,
   "id": "27d0b8db",
   "metadata": {
    "scrolled": true
   },
   "outputs": [
    {
     "name": "stdout",
     "output_type": "stream",
     "text": [
      "   id code         name       area  area_land  area_water  population  \\\n",
      "0   1   af  Afghanistan   652230.0   652230.0         0.0  32564342.0   \n",
      "1   2   al      Albania    28748.0    27398.0      1350.0   3029278.0   \n",
      "2   3   ag      Algeria  2381741.0  2381741.0         0.0  39542166.0   \n",
      "3   4   an      Andorra      468.0      468.0         0.0     85580.0   \n",
      "4   5   ao       Angola  1246700.0  1246700.0         0.0  19625353.0   \n",
      "\n",
      "   population_growth  birth_rate  death_rate  migration_rate  \n",
      "0               2.32       38.57       13.89            1.51  \n",
      "1               0.30       12.92        6.58            3.30  \n",
      "2               1.84       23.67        4.31            0.92  \n",
      "3               0.12        8.13        6.96            0.00  \n",
      "4               2.78       38.78       11.49            0.46  \n"
     ]
    }
   ],
   "source": [
    "import pandas as pd\n",
    "import numpy as np\n",
    "import scipy.stats as stats\n",
    "df = pd.read_excel('factbook.xlsx')\n",
    "df['population'] = df['population'].fillna(0) # add 0 where NaN\n",
    "print(df.head(5))\n"
   ]
  },
  {
   "cell_type": "markdown",
   "id": "07728363",
   "metadata": {},
   "source": [
    "# 8 Calculate z-score: \n",
    "\n",
    "* Tableau has many of these options too"
   ]
  },
  {
   "cell_type": "code",
   "execution_count": 205,
   "id": "12f96ac1",
   "metadata": {},
   "outputs": [
    {
     "name": "stdout",
     "output_type": "stream",
     "text": [
      "      id code             name      area  area_land  area_water    population  \\\n",
      "249  252   pf  Paracel Islands       7.0        7.0         0.0  0.000000e+00   \n",
      "250  253   pg  Spratly Islands       5.0        5.0         0.0  0.000000e+00   \n",
      "251  254   we        West Bank    5860.0     5640.0       220.0  2.785366e+06   \n",
      "252  255   wi   Western Sahara  266000.0   266000.0         0.0  5.708660e+05   \n",
      "253  261   xx            World       NaN        NaN         NaN  7.256490e+09   \n",
      "\n",
      "     population_growth  birth_rate  death_rate  migration_rate  \\\n",
      "249                NaN         NaN         NaN             NaN   \n",
      "250                NaN         NaN         NaN             NaN   \n",
      "251               1.95       22.99        3.50             0.0   \n",
      "252               2.82       30.24        8.34             NaN   \n",
      "253               1.08       18.60        7.80             NaN   \n",
      "\n",
      "     population_zscore  \n",
      "249          -0.126039  \n",
      "250          -0.126039  \n",
      "251          -0.120105  \n",
      "252          -0.124823  \n",
      "253          15.333367  \n"
     ]
    }
   ],
   "source": [
    "df['population_zscore'] = stats.zscore(df['population'])\n",
    "\n",
    "with pd.option_context('display.max_rows', None, 'display.max_columns', None): # checking the whole list for outliers, =/- 3 stdev\n",
    "    print(df.tail(5))\n",
    "df.to_excel('modified.xlsx')\n",
    "    \n",
    "#line with id=253 and z-score=15, obviously outlier and spoils the avg of whole column \"population\"\n"
   ]
  },
  {
   "cell_type": "markdown",
   "id": "3ea4c08d",
   "metadata": {},
   "source": [
    "# 9 Describing data \n",
    "\n",
    "* spikes clean, high level statistics"
   ]
  },
  {
   "cell_type": "code",
   "execution_count": 229,
   "id": "1b820ba5",
   "metadata": {},
   "outputs": [
    {
     "data": {
      "text/html": [
       "<div>\n",
       "<style scoped>\n",
       "    .dataframe tbody tr th:only-of-type {\n",
       "        vertical-align: middle;\n",
       "    }\n",
       "\n",
       "    .dataframe tbody tr th {\n",
       "        vertical-align: top;\n",
       "    }\n",
       "\n",
       "    .dataframe thead th {\n",
       "        text-align: right;\n",
       "    }\n",
       "</style>\n",
       "<table border=\"1\" class=\"dataframe\">\n",
       "  <thead>\n",
       "    <tr style=\"text-align: right;\">\n",
       "      <th></th>\n",
       "      <th>id</th>\n",
       "      <th>area</th>\n",
       "      <th>area_land</th>\n",
       "      <th>area_water</th>\n",
       "      <th>population</th>\n",
       "      <th>population_growth</th>\n",
       "      <th>birth_rate</th>\n",
       "      <th>death_rate</th>\n",
       "      <th>migration_rate</th>\n",
       "      <th>population_zscore</th>\n",
       "    </tr>\n",
       "  </thead>\n",
       "  <tbody>\n",
       "    <tr>\n",
       "      <th>count</th>\n",
       "      <td>253.000000</td>\n",
       "      <td>2.490000e+02</td>\n",
       "      <td>2.460000e+02</td>\n",
       "      <td>243.000000</td>\n",
       "      <td>2.530000e+02</td>\n",
       "      <td>235.000000</td>\n",
       "      <td>227.000000</td>\n",
       "      <td>227.000000</td>\n",
       "      <td>223.000000</td>\n",
       "      <td>253.000000</td>\n",
       "    </tr>\n",
       "    <tr>\n",
       "      <th>mean</th>\n",
       "      <td>127.197628</td>\n",
       "      <td>5.550935e+05</td>\n",
       "      <td>5.227026e+05</td>\n",
       "      <td>19067.592593</td>\n",
       "      <td>3.071337e+07</td>\n",
       "      <td>1.201489</td>\n",
       "      <td>19.331762</td>\n",
       "      <td>7.821366</td>\n",
       "      <td>3.433946</td>\n",
       "      <td>-0.060606</td>\n",
       "    </tr>\n",
       "    <tr>\n",
       "      <th>std</th>\n",
       "      <td>73.469358</td>\n",
       "      <td>1.737041e+06</td>\n",
       "      <td>1.654027e+06</td>\n",
       "      <td>89559.192992</td>\n",
       "      <td>1.253053e+08</td>\n",
       "      <td>0.903359</td>\n",
       "      <td>9.486590</td>\n",
       "      <td>2.885081</td>\n",
       "      <td>4.406689</td>\n",
       "      <td>0.266953</td>\n",
       "    </tr>\n",
       "    <tr>\n",
       "      <th>min</th>\n",
       "      <td>1.000000</td>\n",
       "      <td>0.000000e+00</td>\n",
       "      <td>0.000000e+00</td>\n",
       "      <td>0.000000</td>\n",
       "      <td>0.000000e+00</td>\n",
       "      <td>0.000000</td>\n",
       "      <td>6.650000</td>\n",
       "      <td>1.530000</td>\n",
       "      <td>0.000000</td>\n",
       "      <td>-0.126039</td>\n",
       "    </tr>\n",
       "    <tr>\n",
       "      <th>25%</th>\n",
       "      <td>64.000000</td>\n",
       "      <td>7.600000e+02</td>\n",
       "      <td>7.532500e+02</td>\n",
       "      <td>0.000000</td>\n",
       "      <td>1.121620e+05</td>\n",
       "      <td>0.425000</td>\n",
       "      <td>11.575000</td>\n",
       "      <td>5.905000</td>\n",
       "      <td>0.355000</td>\n",
       "      <td>-0.125800</td>\n",
       "    </tr>\n",
       "    <tr>\n",
       "      <th>50%</th>\n",
       "      <td>127.000000</td>\n",
       "      <td>5.678500e+04</td>\n",
       "      <td>5.900950e+04</td>\n",
       "      <td>440.000000</td>\n",
       "      <td>4.438393e+06</td>\n",
       "      <td>1.040000</td>\n",
       "      <td>16.470000</td>\n",
       "      <td>7.520000</td>\n",
       "      <td>1.910000</td>\n",
       "      <td>-0.116583</td>\n",
       "    </tr>\n",
       "    <tr>\n",
       "      <th>75%</th>\n",
       "      <td>190.000000</td>\n",
       "      <td>3.420000e+05</td>\n",
       "      <td>3.259935e+05</td>\n",
       "      <td>6555.000000</td>\n",
       "      <td>1.750826e+07</td>\n",
       "      <td>1.880000</td>\n",
       "      <td>24.380000</td>\n",
       "      <td>9.440000</td>\n",
       "      <td>4.945000</td>\n",
       "      <td>-0.088739</td>\n",
       "    </tr>\n",
       "    <tr>\n",
       "      <th>max</th>\n",
       "      <td>255.000000</td>\n",
       "      <td>1.709824e+07</td>\n",
       "      <td>1.637774e+07</td>\n",
       "      <td>891163.000000</td>\n",
       "      <td>1.367485e+09</td>\n",
       "      <td>4.020000</td>\n",
       "      <td>45.450000</td>\n",
       "      <td>14.890000</td>\n",
       "      <td>22.390000</td>\n",
       "      <td>2.787286</td>\n",
       "    </tr>\n",
       "  </tbody>\n",
       "</table>\n",
       "</div>"
      ],
      "text/plain": [
       "               id          area     area_land     area_water    population  \\\n",
       "count  253.000000  2.490000e+02  2.460000e+02     243.000000  2.530000e+02   \n",
       "mean   127.197628  5.550935e+05  5.227026e+05   19067.592593  3.071337e+07   \n",
       "std     73.469358  1.737041e+06  1.654027e+06   89559.192992  1.253053e+08   \n",
       "min      1.000000  0.000000e+00  0.000000e+00       0.000000  0.000000e+00   \n",
       "25%     64.000000  7.600000e+02  7.532500e+02       0.000000  1.121620e+05   \n",
       "50%    127.000000  5.678500e+04  5.900950e+04     440.000000  4.438393e+06   \n",
       "75%    190.000000  3.420000e+05  3.259935e+05    6555.000000  1.750826e+07   \n",
       "max    255.000000  1.709824e+07  1.637774e+07  891163.000000  1.367485e+09   \n",
       "\n",
       "       population_growth  birth_rate  death_rate  migration_rate  \\\n",
       "count         235.000000  227.000000  227.000000      223.000000   \n",
       "mean            1.201489   19.331762    7.821366        3.433946   \n",
       "std             0.903359    9.486590    2.885081        4.406689   \n",
       "min             0.000000    6.650000    1.530000        0.000000   \n",
       "25%             0.425000   11.575000    5.905000        0.355000   \n",
       "50%             1.040000   16.470000    7.520000        1.910000   \n",
       "75%             1.880000   24.380000    9.440000        4.945000   \n",
       "max             4.020000   45.450000   14.890000       22.390000   \n",
       "\n",
       "       population_zscore  \n",
       "count         253.000000  \n",
       "mean           -0.060606  \n",
       "std             0.266953  \n",
       "min            -0.126039  \n",
       "25%            -0.125800  \n",
       "50%            -0.116583  \n",
       "75%            -0.088739  \n",
       "max             2.787286  "
      ]
     },
     "execution_count": 229,
     "metadata": {},
     "output_type": "execute_result"
    }
   ],
   "source": [
    "df.describe()\n"
   ]
  },
  {
   "cell_type": "markdown",
   "id": "92ede16f",
   "metadata": {},
   "source": [
    "# 10 Back to SQL\n",
    "\n",
    "* The row with an outlier detected previously omitted\n",
    "* Listing the country # 1 among countries with the largest population and the smallest birth_rate "
   ]
  },
  {
   "cell_type": "code",
   "execution_count": 248,
   "id": "9773fcb6",
   "metadata": {},
   "outputs": [
    {
     "name": "stdout",
     "output_type": "stream",
     "text": [
      " * sqlite:///factbook.db\n",
      "Done.\n"
     ]
    },
    {
     "data": {
      "text/html": [
       "<table>\n",
       "    <tr>\n",
       "        <th>id</th>\n",
       "        <th>code</th>\n",
       "        <th>name</th>\n",
       "        <th>area</th>\n",
       "        <th>area_land</th>\n",
       "        <th>area_water</th>\n",
       "        <th>population</th>\n",
       "        <th>population_growth</th>\n",
       "        <th>birth_rate</th>\n",
       "        <th>death_rate</th>\n",
       "        <th>migration_rate</th>\n",
       "        <th>min(birth_rate)</th>\n",
       "    </tr>\n",
       "    <tr>\n",
       "        <td>85</td>\n",
       "        <td>ja</td>\n",
       "        <td>Japan</td>\n",
       "        <td>377915</td>\n",
       "        <td>364485</td>\n",
       "        <td>13430</td>\n",
       "        <td>126919659</td>\n",
       "        <td>0.16</td>\n",
       "        <td>7.93</td>\n",
       "        <td>9.51</td>\n",
       "        <td>0.0</td>\n",
       "        <td>7.93</td>\n",
       "    </tr>\n",
       "</table>"
      ],
      "text/plain": [
       "[(85, 'ja', 'Japan', 377915, 364485, 13430, 126919659, 0.16, 7.93, 9.51, 0.0, 7.93)]"
      ]
     },
     "execution_count": 248,
     "metadata": {},
     "output_type": "execute_result"
    }
   ],
   "source": [
    "%%sql\n",
    "SELECT *, min(birth_rate) \n",
    "   from\n",
    "    (SELECT * \n",
    "  from facts \n",
    "WHERE coalesce (area, area_land, area_water, population_growth, birth_rate, death_rate , migration_rate)\n",
    "IS NOT NULL\n",
    "AND name <> 'World'\n",
    "AND population <> 'None'\n",
    "ORDER BY population desc, birth_rate asc\n",
    "    LIMIT 50)\n"
   ]
  },
  {
   "cell_type": "code",
   "execution_count": null,
   "id": "83b4f6b6",
   "metadata": {},
   "outputs": [],
   "source": []
  }
 ],
 "metadata": {
  "kernelspec": {
   "display_name": "Python 3",
   "language": "python",
   "name": "python3"
  },
  "language_info": {
   "codemirror_mode": {
    "name": "ipython",
    "version": 3
   },
   "file_extension": ".py",
   "mimetype": "text/x-python",
   "name": "python",
   "nbconvert_exporter": "python",
   "pygments_lexer": "ipython3",
   "version": "3.8.8"
  }
 },
 "nbformat": 4,
 "nbformat_minor": 5
}

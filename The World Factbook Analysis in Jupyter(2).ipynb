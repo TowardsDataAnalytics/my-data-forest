{
 "cells": [
  {
   "cell_type": "markdown",
   "id": "5eb9a67b",
   "metadata": {},
   "source": [
    "# The World Factbook Analysis\n",
    "* Found this CIA's World Factbook data set (2015) as \"Single-File SQLite\" on Git and enabled IPython magic functions to be able to use SQLite in Jupyter environment. Made quick data quality check & exploratory analysis. https://github.com/factbook/factbook.sql/releases"
   ]
  },
  {
   "cell_type": "code",
   "execution_count": 71,
   "id": "c7d6e9e6",
   "metadata": {},
   "outputs": [],
   "source": [
    "%%capture\n",
    "%load_ext sql\n",
    "%sql sqlite:///factbook.db"
   ]
  },
  {
   "cell_type": "code",
   "execution_count": 67,
   "id": "2aa6ba2f",
   "metadata": {},
   "outputs": [
    {
     "name": "stdout",
     "output_type": "stream",
     "text": [
      " * sqlite:///factbook.db\n",
      "Done.\n"
     ]
    },
    {
     "data": {
      "text/html": [
       "<table>\n",
       "    <tr>\n",
       "        <th>type</th>\n",
       "        <th>name</th>\n",
       "        <th>tbl_name</th>\n",
       "        <th>rootpage</th>\n",
       "        <th>sql</th>\n",
       "    </tr>\n",
       "    <tr>\n",
       "        <td>table</td>\n",
       "        <td>sqlite_sequence</td>\n",
       "        <td>sqlite_sequence</td>\n",
       "        <td>3</td>\n",
       "        <td>CREATE TABLE sqlite_sequence(name,seq)</td>\n",
       "    </tr>\n",
       "    <tr>\n",
       "        <td>table</td>\n",
       "        <td>facts</td>\n",
       "        <td>facts</td>\n",
       "        <td>47</td>\n",
       "        <td>CREATE TABLE &quot;facts&quot; (&quot;id&quot; INTEGER PRIMARY KEY AUTOINCREMENT NOT NULL, &quot;code&quot; varchar(255) NOT NULL, &quot;name&quot; varchar(255) NOT NULL, &quot;area&quot; integer, &quot;area_land&quot; integer, &quot;area_water&quot; integer, &quot;population&quot; integer, &quot;population_growth&quot; float, &quot;birth_rate&quot; float, &quot;death_rate&quot; float, &quot;migration_rate&quot; float)</td>\n",
       "    </tr>\n",
       "</table>"
      ],
      "text/plain": [
       "[('table', 'sqlite_sequence', 'sqlite_sequence', 3, 'CREATE TABLE sqlite_sequence(name,seq)'),\n",
       " ('table', 'facts', 'facts', 47, 'CREATE TABLE \"facts\" (\"id\" INTEGER PRIMARY KEY AUTOINCREMENT NOT NULL, \"code\" varchar(255) NOT NULL, \"name\" varchar(255) NOT NULL, \"area\" integer, \"a ... (4 characters truncated) ... land\" integer, \"area_water\" integer, \"population\" integer, \"population_growth\" float, \"birth_rate\" float, \"death_rate\" float, \"migration_rate\" float)')]"
      ]
     },
     "execution_count": 67,
     "metadata": {},
     "output_type": "execute_result"
    }
   ],
   "source": [
    "%%sql\n",
    "\n",
    "SELECT *\n",
    "  FROM sqlite_master\n",
    " WHERE type='table'; "
   ]
  },
  {
   "cell_type": "markdown",
   "id": "93f19d70",
   "metadata": {},
   "source": [
    "# Exploratory analysis in SQL & Pandas:"
   ]
  },
  {
   "cell_type": "code",
   "execution_count": 195,
   "id": "c56807e1",
   "metadata": {},
   "outputs": [
    {
     "name": "stdout",
     "output_type": "stream",
     "text": [
      " * sqlite:///factbook.db\n",
      "Done.\n"
     ]
    },
    {
     "data": {
      "text/html": [
       "<table>\n",
       "    <tr>\n",
       "        <th>id</th>\n",
       "        <th>code</th>\n",
       "        <th>name</th>\n",
       "        <th>area</th>\n",
       "        <th>area_land</th>\n",
       "        <th>area_water</th>\n",
       "        <th>population</th>\n",
       "        <th>population_growth</th>\n",
       "        <th>birth_rate</th>\n",
       "        <th>death_rate</th>\n",
       "        <th>migration_rate</th>\n",
       "    </tr>\n",
       "    <tr>\n",
       "        <td>1</td>\n",
       "        <td>af</td>\n",
       "        <td>Afghanistan</td>\n",
       "        <td>652230</td>\n",
       "        <td>652230</td>\n",
       "        <td>0</td>\n",
       "        <td>32564342</td>\n",
       "        <td>2.32</td>\n",
       "        <td>38.57</td>\n",
       "        <td>13.89</td>\n",
       "        <td>1.51</td>\n",
       "    </tr>\n",
       "    <tr>\n",
       "        <td>2</td>\n",
       "        <td>al</td>\n",
       "        <td>Albania</td>\n",
       "        <td>28748</td>\n",
       "        <td>27398</td>\n",
       "        <td>1350</td>\n",
       "        <td>3029278</td>\n",
       "        <td>0.3</td>\n",
       "        <td>12.92</td>\n",
       "        <td>6.58</td>\n",
       "        <td>3.3</td>\n",
       "    </tr>\n",
       "    <tr>\n",
       "        <td>3</td>\n",
       "        <td>ag</td>\n",
       "        <td>Algeria</td>\n",
       "        <td>2381741</td>\n",
       "        <td>2381741</td>\n",
       "        <td>0</td>\n",
       "        <td>39542166</td>\n",
       "        <td>1.84</td>\n",
       "        <td>23.67</td>\n",
       "        <td>4.31</td>\n",
       "        <td>0.92</td>\n",
       "    </tr>\n",
       "    <tr>\n",
       "        <td>4</td>\n",
       "        <td>an</td>\n",
       "        <td>Andorra</td>\n",
       "        <td>468</td>\n",
       "        <td>468</td>\n",
       "        <td>0</td>\n",
       "        <td>85580</td>\n",
       "        <td>0.12</td>\n",
       "        <td>8.13</td>\n",
       "        <td>6.96</td>\n",
       "        <td>0.0</td>\n",
       "    </tr>\n",
       "    <tr>\n",
       "        <td>5</td>\n",
       "        <td>ao</td>\n",
       "        <td>Angola</td>\n",
       "        <td>1246700</td>\n",
       "        <td>1246700</td>\n",
       "        <td>0</td>\n",
       "        <td>19625353</td>\n",
       "        <td>2.78</td>\n",
       "        <td>38.78</td>\n",
       "        <td>11.49</td>\n",
       "        <td>0.46</td>\n",
       "    </tr>\n",
       "    <tr>\n",
       "        <td>6</td>\n",
       "        <td>ac</td>\n",
       "        <td>Antigua and Barbuda</td>\n",
       "        <td>442</td>\n",
       "        <td>442</td>\n",
       "        <td>0</td>\n",
       "        <td>92436</td>\n",
       "        <td>1.24</td>\n",
       "        <td>15.85</td>\n",
       "        <td>5.69</td>\n",
       "        <td>2.21</td>\n",
       "    </tr>\n",
       "    <tr>\n",
       "        <td>7</td>\n",
       "        <td>ar</td>\n",
       "        <td>Argentina</td>\n",
       "        <td>2780400</td>\n",
       "        <td>2736690</td>\n",
       "        <td>43710</td>\n",
       "        <td>43431886</td>\n",
       "        <td>0.93</td>\n",
       "        <td>16.64</td>\n",
       "        <td>7.33</td>\n",
       "        <td>0.0</td>\n",
       "    </tr>\n",
       "    <tr>\n",
       "        <td>8</td>\n",
       "        <td>am</td>\n",
       "        <td>Armenia</td>\n",
       "        <td>29743</td>\n",
       "        <td>28203</td>\n",
       "        <td>1540</td>\n",
       "        <td>3056382</td>\n",
       "        <td>0.15</td>\n",
       "        <td>13.61</td>\n",
       "        <td>9.34</td>\n",
       "        <td>5.8</td>\n",
       "    </tr>\n",
       "    <tr>\n",
       "        <td>9</td>\n",
       "        <td>as</td>\n",
       "        <td>Australia</td>\n",
       "        <td>7741220</td>\n",
       "        <td>7682300</td>\n",
       "        <td>58920</td>\n",
       "        <td>22751014</td>\n",
       "        <td>1.07</td>\n",
       "        <td>12.15</td>\n",
       "        <td>7.14</td>\n",
       "        <td>5.65</td>\n",
       "    </tr>\n",
       "    <tr>\n",
       "        <td>10</td>\n",
       "        <td>au</td>\n",
       "        <td>Austria</td>\n",
       "        <td>83871</td>\n",
       "        <td>82445</td>\n",
       "        <td>1426</td>\n",
       "        <td>8665550</td>\n",
       "        <td>0.55</td>\n",
       "        <td>9.41</td>\n",
       "        <td>9.42</td>\n",
       "        <td>5.56</td>\n",
       "    </tr>\n",
       "</table>"
      ],
      "text/plain": [
       "[(1, 'af', 'Afghanistan', 652230, 652230, 0, 32564342, 2.32, 38.57, 13.89, 1.51),\n",
       " (2, 'al', 'Albania', 28748, 27398, 1350, 3029278, 0.3, 12.92, 6.58, 3.3),\n",
       " (3, 'ag', 'Algeria', 2381741, 2381741, 0, 39542166, 1.84, 23.67, 4.31, 0.92),\n",
       " (4, 'an', 'Andorra', 468, 468, 0, 85580, 0.12, 8.13, 6.96, 0.0),\n",
       " (5, 'ao', 'Angola', 1246700, 1246700, 0, 19625353, 2.78, 38.78, 11.49, 0.46),\n",
       " (6, 'ac', 'Antigua and Barbuda', 442, 442, 0, 92436, 1.24, 15.85, 5.69, 2.21),\n",
       " (7, 'ar', 'Argentina', 2780400, 2736690, 43710, 43431886, 0.93, 16.64, 7.33, 0.0),\n",
       " (8, 'am', 'Armenia', 29743, 28203, 1540, 3056382, 0.15, 13.61, 9.34, 5.8),\n",
       " (9, 'as', 'Australia', 7741220, 7682300, 58920, 22751014, 1.07, 12.15, 7.14, 5.65),\n",
       " (10, 'au', 'Austria', 83871, 82445, 1426, 8665550, 0.55, 9.41, 9.42, 5.56)]"
      ]
     },
     "execution_count": 195,
     "metadata": {},
     "output_type": "execute_result"
    }
   ],
   "source": [
    "%%sql \n",
    "SELECT *\n",
    "FROM facts\n",
    "LIMIT 10"
   ]
  },
  {
   "cell_type": "markdown",
   "id": "32509997",
   "metadata": {},
   "source": [
    "# 1 Inspecting the total number of rows:"
   ]
  },
  {
   "cell_type": "code",
   "execution_count": 44,
   "id": "a74c4456",
   "metadata": {},
   "outputs": [
    {
     "name": "stdout",
     "output_type": "stream",
     "text": [
      " * sqlite:///factbook.db\n",
      "Done.\n"
     ]
    },
    {
     "data": {
      "text/html": [
       "<table>\n",
       "    <tr>\n",
       "        <th>COUNT (*)</th>\n",
       "    </tr>\n",
       "    <tr>\n",
       "        <td>261</td>\n",
       "    </tr>\n",
       "</table>"
      ],
      "text/plain": [
       "[(261,)]"
      ]
     },
     "execution_count": 44,
     "metadata": {},
     "output_type": "execute_result"
    }
   ],
   "source": [
    "%%sql\n",
    "SELECT COUNT (*)\n",
    "  FROM facts"
   ]
  },
  {
   "cell_type": "markdown",
   "id": "0288dcfd",
   "metadata": {},
   "source": [
    "# 2 Inspecting the number of unique countries:\n",
    "\n",
    "* If the same as total number of rows no duplicates"
   ]
  },
  {
   "cell_type": "code",
   "execution_count": 49,
   "id": "58edce2f",
   "metadata": {},
   "outputs": [
    {
     "name": "stdout",
     "output_type": "stream",
     "text": [
      " * sqlite:///factbook.db\n",
      "Done.\n"
     ]
    },
    {
     "data": {
      "text/html": [
       "<table>\n",
       "    <tr>\n",
       "        <th>COUNT (DISTINCT name)</th>\n",
       "    </tr>\n",
       "    <tr>\n",
       "        <td>261</td>\n",
       "    </tr>\n",
       "</table>"
      ],
      "text/plain": [
       "[(261,)]"
      ]
     },
     "execution_count": 49,
     "metadata": {},
     "output_type": "execute_result"
    }
   ],
   "source": [
    "%%sql\n",
    "SELECT COUNT (DISTINCT name)\n",
    "  FROM facts"
   ]
  },
  {
   "cell_type": "markdown",
   "id": "13ba77d4",
   "metadata": {},
   "source": [
    "# 3 Checking again for duplicates:"
   ]
  },
  {
   "cell_type": "code",
   "execution_count": 50,
   "id": "db8f8c97",
   "metadata": {},
   "outputs": [
    {
     "name": "stdout",
     "output_type": "stream",
     "text": [
      " * sqlite:///factbook.db\n",
      "Done.\n"
     ]
    },
    {
     "data": {
      "text/html": [
       "<table>\n",
       "    <tr>\n",
       "        <th>code</th>\n",
       "        <th>name</th>\n",
       "        <th>COUNT (*)</th>\n",
       "    </tr>\n",
       "</table>"
      ],
      "text/plain": [
       "[]"
      ]
     },
     "execution_count": 50,
     "metadata": {},
     "output_type": "execute_result"
    }
   ],
   "source": [
    "%%sql\n",
    "SELECT code, name, COUNT (*)\n",
    " from facts\n",
    "    GROUP BY code, name\n",
    "    HAVING COUNT(*) > 1"
   ]
  },
  {
   "cell_type": "markdown",
   "id": "23ecef32",
   "metadata": {},
   "source": [
    "# 4 Checking for NULL values:"
   ]
  },
  {
   "cell_type": "code",
   "execution_count": 53,
   "id": "9d1ede02",
   "metadata": {},
   "outputs": [
    {
     "name": "stdout",
     "output_type": "stream",
     "text": [
      " * sqlite:///factbook.db\n",
      "Done.\n"
     ]
    },
    {
     "data": {
      "text/html": [
       "<table>\n",
       "    <tr>\n",
       "        <th>id</th>\n",
       "        <th>code</th>\n",
       "        <th>name</th>\n",
       "        <th>area</th>\n",
       "        <th>area_land</th>\n",
       "        <th>area_water</th>\n",
       "        <th>population</th>\n",
       "        <th>population_growth</th>\n",
       "        <th>birth_rate</th>\n",
       "        <th>death_rate</th>\n",
       "        <th>migration_rate</th>\n",
       "    </tr>\n",
       "    <tr>\n",
       "        <td>210</td>\n",
       "        <td>fs</td>\n",
       "        <td>French Southern and Antarctic Lands</td>\n",
       "        <td>None</td>\n",
       "        <td>None</td>\n",
       "        <td>None</td>\n",
       "        <td>None</td>\n",
       "        <td>None</td>\n",
       "        <td>None</td>\n",
       "        <td>None</td>\n",
       "        <td>None</td>\n",
       "    </tr>\n",
       "    <tr>\n",
       "        <td>249</td>\n",
       "        <td>um</td>\n",
       "        <td>United States Pacific Island Wildlife Refuges</td>\n",
       "        <td>None</td>\n",
       "        <td>None</td>\n",
       "        <td>None</td>\n",
       "        <td>None</td>\n",
       "        <td>None</td>\n",
       "        <td>None</td>\n",
       "        <td>None</td>\n",
       "        <td>None</td>\n",
       "    </tr>\n",
       "    <tr>\n",
       "        <td>256</td>\n",
       "        <td>xq</td>\n",
       "        <td>Arctic Ocean</td>\n",
       "        <td>None</td>\n",
       "        <td>None</td>\n",
       "        <td>None</td>\n",
       "        <td>None</td>\n",
       "        <td>None</td>\n",
       "        <td>None</td>\n",
       "        <td>None</td>\n",
       "        <td>None</td>\n",
       "    </tr>\n",
       "    <tr>\n",
       "        <td>257</td>\n",
       "        <td>zh</td>\n",
       "        <td>Atlantic Ocean</td>\n",
       "        <td>None</td>\n",
       "        <td>None</td>\n",
       "        <td>None</td>\n",
       "        <td>None</td>\n",
       "        <td>None</td>\n",
       "        <td>None</td>\n",
       "        <td>None</td>\n",
       "        <td>None</td>\n",
       "    </tr>\n",
       "    <tr>\n",
       "        <td>258</td>\n",
       "        <td>xo</td>\n",
       "        <td>Indian Ocean</td>\n",
       "        <td>None</td>\n",
       "        <td>None</td>\n",
       "        <td>None</td>\n",
       "        <td>None</td>\n",
       "        <td>None</td>\n",
       "        <td>None</td>\n",
       "        <td>None</td>\n",
       "        <td>None</td>\n",
       "    </tr>\n",
       "    <tr>\n",
       "        <td>259</td>\n",
       "        <td>zn</td>\n",
       "        <td>Pacific Ocean</td>\n",
       "        <td>None</td>\n",
       "        <td>None</td>\n",
       "        <td>None</td>\n",
       "        <td>None</td>\n",
       "        <td>None</td>\n",
       "        <td>None</td>\n",
       "        <td>None</td>\n",
       "        <td>None</td>\n",
       "    </tr>\n",
       "    <tr>\n",
       "        <td>260</td>\n",
       "        <td>oo</td>\n",
       "        <td>Southern Ocean</td>\n",
       "        <td>None</td>\n",
       "        <td>None</td>\n",
       "        <td>None</td>\n",
       "        <td>None</td>\n",
       "        <td>None</td>\n",
       "        <td>None</td>\n",
       "        <td>None</td>\n",
       "        <td>None</td>\n",
       "    </tr>\n",
       "</table>"
      ],
      "text/plain": [
       "[(210, 'fs', 'French Southern and Antarctic Lands', None, None, None, None, None, None, None, None),\n",
       " (249, 'um', 'United States Pacific Island Wildlife Refuges', None, None, None, None, None, None, None, None),\n",
       " (256, 'xq', 'Arctic Ocean', None, None, None, None, None, None, None, None),\n",
       " (257, 'zh', 'Atlantic Ocean', None, None, None, None, None, None, None, None),\n",
       " (258, 'xo', 'Indian Ocean', None, None, None, None, None, None, None, None),\n",
       " (259, 'zn', 'Pacific Ocean', None, None, None, None, None, None, None, None),\n",
       " (260, 'oo', 'Southern Ocean', None, None, None, None, None, None, None, None)]"
      ]
     },
     "execution_count": 53,
     "metadata": {},
     "output_type": "execute_result"
    }
   ],
   "source": [
    "%%sql\n",
    "SELECT * \n",
    "FROM facts \n",
    "WHERE coalesce (area, area_land, area_water, population, population_growth, birth_rate, death_rate , migration_rate)\n",
    "IS NULL"
   ]
  },
  {
   "cell_type": "markdown",
   "id": "6e9cf983",
   "metadata": {},
   "source": [
    "# 5 Leaving out the rows that have null across all the columns (e.g.oceans):\n",
    "* There are still some left with \"None\" across the cells (e.g. areas that are not populated etc.)"
   ]
  },
  {
   "cell_type": "code",
   "execution_count": 249,
   "id": "0debae9f",
   "metadata": {},
   "outputs": [
    {
     "name": "stdout",
     "output_type": "stream",
     "text": [
      " * sqlite:///factbook.db\n",
      "Done.\n"
     ]
    },
    {
     "data": {
      "text/html": [
       "<table>\n",
       "    <tr>\n",
       "        <th>id</th>\n",
       "        <th>code</th>\n",
       "        <th>name</th>\n",
       "        <th>area</th>\n",
       "        <th>area_land</th>\n",
       "        <th>area_water</th>\n",
       "        <th>population</th>\n",
       "        <th>population_growth</th>\n",
       "        <th>birth_rate</th>\n",
       "        <th>death_rate</th>\n",
       "        <th>migration_rate</th>\n",
       "    </tr>\n",
       "    <tr>\n",
       "        <td>1</td>\n",
       "        <td>af</td>\n",
       "        <td>Afghanistan</td>\n",
       "        <td>652230</td>\n",
       "        <td>652230</td>\n",
       "        <td>0</td>\n",
       "        <td>32564342</td>\n",
       "        <td>2.32</td>\n",
       "        <td>38.57</td>\n",
       "        <td>13.89</td>\n",
       "        <td>1.51</td>\n",
       "    </tr>\n",
       "    <tr>\n",
       "        <td>2</td>\n",
       "        <td>al</td>\n",
       "        <td>Albania</td>\n",
       "        <td>28748</td>\n",
       "        <td>27398</td>\n",
       "        <td>1350</td>\n",
       "        <td>3029278</td>\n",
       "        <td>0.3</td>\n",
       "        <td>12.92</td>\n",
       "        <td>6.58</td>\n",
       "        <td>3.3</td>\n",
       "    </tr>\n",
       "    <tr>\n",
       "        <td>3</td>\n",
       "        <td>ag</td>\n",
       "        <td>Algeria</td>\n",
       "        <td>2381741</td>\n",
       "        <td>2381741</td>\n",
       "        <td>0</td>\n",
       "        <td>39542166</td>\n",
       "        <td>1.84</td>\n",
       "        <td>23.67</td>\n",
       "        <td>4.31</td>\n",
       "        <td>0.92</td>\n",
       "    </tr>\n",
       "    <tr>\n",
       "        <td>4</td>\n",
       "        <td>an</td>\n",
       "        <td>Andorra</td>\n",
       "        <td>468</td>\n",
       "        <td>468</td>\n",
       "        <td>0</td>\n",
       "        <td>85580</td>\n",
       "        <td>0.12</td>\n",
       "        <td>8.13</td>\n",
       "        <td>6.96</td>\n",
       "        <td>0.0</td>\n",
       "    </tr>\n",
       "    <tr>\n",
       "        <td>5</td>\n",
       "        <td>ao</td>\n",
       "        <td>Angola</td>\n",
       "        <td>1246700</td>\n",
       "        <td>1246700</td>\n",
       "        <td>0</td>\n",
       "        <td>19625353</td>\n",
       "        <td>2.78</td>\n",
       "        <td>38.78</td>\n",
       "        <td>11.49</td>\n",
       "        <td>0.46</td>\n",
       "    </tr>\n",
       "    <tr>\n",
       "        <td>6</td>\n",
       "        <td>ac</td>\n",
       "        <td>Antigua and Barbuda</td>\n",
       "        <td>442</td>\n",
       "        <td>442</td>\n",
       "        <td>0</td>\n",
       "        <td>92436</td>\n",
       "        <td>1.24</td>\n",
       "        <td>15.85</td>\n",
       "        <td>5.69</td>\n",
       "        <td>2.21</td>\n",
       "    </tr>\n",
       "    <tr>\n",
       "        <td>7</td>\n",
       "        <td>ar</td>\n",
       "        <td>Argentina</td>\n",
       "        <td>2780400</td>\n",
       "        <td>2736690</td>\n",
       "        <td>43710</td>\n",
       "        <td>43431886</td>\n",
       "        <td>0.93</td>\n",
       "        <td>16.64</td>\n",
       "        <td>7.33</td>\n",
       "        <td>0.0</td>\n",
       "    </tr>\n",
       "    <tr>\n",
       "        <td>8</td>\n",
       "        <td>am</td>\n",
       "        <td>Armenia</td>\n",
       "        <td>29743</td>\n",
       "        <td>28203</td>\n",
       "        <td>1540</td>\n",
       "        <td>3056382</td>\n",
       "        <td>0.15</td>\n",
       "        <td>13.61</td>\n",
       "        <td>9.34</td>\n",
       "        <td>5.8</td>\n",
       "    </tr>\n",
       "    <tr>\n",
       "        <td>9</td>\n",
       "        <td>as</td>\n",
       "        <td>Australia</td>\n",
       "        <td>7741220</td>\n",
       "        <td>7682300</td>\n",
       "        <td>58920</td>\n",
       "        <td>22751014</td>\n",
       "        <td>1.07</td>\n",
       "        <td>12.15</td>\n",
       "        <td>7.14</td>\n",
       "        <td>5.65</td>\n",
       "    </tr>\n",
       "    <tr>\n",
       "        <td>10</td>\n",
       "        <td>au</td>\n",
       "        <td>Austria</td>\n",
       "        <td>83871</td>\n",
       "        <td>82445</td>\n",
       "        <td>1426</td>\n",
       "        <td>8665550</td>\n",
       "        <td>0.55</td>\n",
       "        <td>9.41</td>\n",
       "        <td>9.42</td>\n",
       "        <td>5.56</td>\n",
       "    </tr>\n",
       "</table>"
      ],
      "text/plain": [
       "[(1, 'af', 'Afghanistan', 652230, 652230, 0, 32564342, 2.32, 38.57, 13.89, 1.51),\n",
       " (2, 'al', 'Albania', 28748, 27398, 1350, 3029278, 0.3, 12.92, 6.58, 3.3),\n",
       " (3, 'ag', 'Algeria', 2381741, 2381741, 0, 39542166, 1.84, 23.67, 4.31, 0.92),\n",
       " (4, 'an', 'Andorra', 468, 468, 0, 85580, 0.12, 8.13, 6.96, 0.0),\n",
       " (5, 'ao', 'Angola', 1246700, 1246700, 0, 19625353, 2.78, 38.78, 11.49, 0.46),\n",
       " (6, 'ac', 'Antigua and Barbuda', 442, 442, 0, 92436, 1.24, 15.85, 5.69, 2.21),\n",
       " (7, 'ar', 'Argentina', 2780400, 2736690, 43710, 43431886, 0.93, 16.64, 7.33, 0.0),\n",
       " (8, 'am', 'Armenia', 29743, 28203, 1540, 3056382, 0.15, 13.61, 9.34, 5.8),\n",
       " (9, 'as', 'Australia', 7741220, 7682300, 58920, 22751014, 1.07, 12.15, 7.14, 5.65),\n",
       " (10, 'au', 'Austria', 83871, 82445, 1426, 8665550, 0.55, 9.41, 9.42, 5.56)]"
      ]
     },
     "execution_count": 249,
     "metadata": {},
     "output_type": "execute_result"
    }
   ],
   "source": [
    "%%sql\n",
    "SELECT * \n",
    "FROM facts \n",
    "WHERE coalesce (area, area_land, area_water, population_growth, birth_rate, death_rate , migration_rate)\n",
    "IS NOT NULL\n",
    "LIMIT 10"
   ]
  },
  {
   "cell_type": "markdown",
   "id": "eef41fa7",
   "metadata": {},
   "source": [
    "# 6 Looking for outliers, using z-score:\n",
    "* Issue below is that \"stdev\" is not on the list of aggregate functions in sql lite, see error &  https://www.sqlite.org/lang_aggfunc.html \n",
    "* That's why I'll switch to Pandas to deal with outliers."
   ]
  },
  {
   "cell_type": "code",
   "execution_count": 143,
   "id": "ea954b39",
   "metadata": {},
   "outputs": [
    {
     "name": "stdout",
     "output_type": "stream",
     "text": [
      " * sqlite:///factbook.db\n",
      "(sqlite3.OperationalError) no such function: stdev\n",
      "[SQL: SELECT name, (area, area - avg(area)) / stdev(area)\n",
      "   from (SELECT * \n",
      "FROM facts \n",
      "WHERE coalesce (area, area_land, area_water, population, population_growth, birth_rate, death_rate , migration_rate)\n",
      "IS NOT NULL)]\n",
      "(Background on this error at: http://sqlalche.me/e/14/e3q8)\n"
     ]
    }
   ],
   "source": [
    "%%sql\n",
    "SELECT name, (area, area - avg(area)) / stdev(area)\n",
    "   from (SELECT * \n",
    "FROM facts \n",
    "WHERE coalesce (area, area_land, area_water, population, population_growth, birth_rate, death_rate , migration_rate)\n",
    "IS NOT NULL)"
   ]
  },
  {
   "cell_type": "markdown",
   "id": "10d96f2d",
   "metadata": {},
   "source": [
    "# 7 Working with data frames in Pandas "
   ]
  },
  {
   "cell_type": "code",
   "execution_count": 232,
   "id": "27d0b8db",
   "metadata": {
    "scrolled": true
   },
   "outputs": [
    {
     "name": "stdout",
     "output_type": "stream",
     "text": [
      "   id code         name       area  area_land  area_water  population  \\\n",
      "0   1   af  Afghanistan   652230.0   652230.0         0.0  32564342.0   \n",
      "1   2   al      Albania    28748.0    27398.0      1350.0   3029278.0   \n",
      "2   3   ag      Algeria  2381741.0  2381741.0         0.0  39542166.0   \n",
      "3   4   an      Andorra      468.0      468.0         0.0     85580.0   \n",
      "4   5   ao       Angola  1246700.0  1246700.0         0.0  19625353.0   \n",
      "\n",
      "   population_growth  birth_rate  death_rate  migration_rate  \n",
      "0               2.32       38.57       13.89            1.51  \n",
      "1               0.30       12.92        6.58            3.30  \n",
      "2               1.84       23.67        4.31            0.92  \n",
      "3               0.12        8.13        6.96            0.00  \n",
      "4               2.78       38.78       11.49            0.46  \n"
     ]
    }
   ],
   "source": [
    "import pandas as pd\n",
    "import numpy as np\n",
    "import scipy.stats as stats\n",
    "df = pd.read_excel('factbook.xlsx')\n",
    "df['population'] = df['population'].fillna(0) # add 0 where NaN\n",
    "print(df.head(5))"
   ]
  },
  {
   "cell_type": "markdown",
   "id": "07728363",
   "metadata": {},
   "source": [
    "# 8 Calculating z-score: "
   ]
  },
  {
   "cell_type": "code",
   "execution_count": 205,
   "id": "12f96ac1",
   "metadata": {},
   "outputs": [
    {
     "name": "stdout",
     "output_type": "stream",
     "text": [
      "      id code             name      area  area_land  area_water    population  \\\n",
      "249  252   pf  Paracel Islands       7.0        7.0         0.0  0.000000e+00   \n",
      "250  253   pg  Spratly Islands       5.0        5.0         0.0  0.000000e+00   \n",
      "251  254   we        West Bank    5860.0     5640.0       220.0  2.785366e+06   \n",
      "252  255   wi   Western Sahara  266000.0   266000.0         0.0  5.708660e+05   \n",
      "253  261   xx            World       NaN        NaN         NaN  7.256490e+09   \n",
      "\n",
      "     population_growth  birth_rate  death_rate  migration_rate  \\\n",
      "249                NaN         NaN         NaN             NaN   \n",
      "250                NaN         NaN         NaN             NaN   \n",
      "251               1.95       22.99        3.50             0.0   \n",
      "252               2.82       30.24        8.34             NaN   \n",
      "253               1.08       18.60        7.80             NaN   \n",
      "\n",
      "     population_zscore  \n",
      "249          -0.126039  \n",
      "250          -0.126039  \n",
      "251          -0.120105  \n",
      "252          -0.124823  \n",
      "253          15.333367  \n"
     ]
    }
   ],
   "source": [
    "df['population_zscore'] = stats.zscore(df['population'])\n",
    "\n",
    "with pd.option_context('display.max_rows', None, 'display.max_columns', None): # checking the whole list for outliers, criteria: +/- 3 stdev\n",
    "    print(df.tail(5))\n",
    "df.to_excel('modified.xlsx')\n",
    "    \n",
    "#line with id=253 and z-score=15, obviously outlier and spoils the avg of whole column \"population\""
   ]
  },
  {
   "cell_type": "code",
   "execution_count": 289,
   "id": "e69bbd97",
   "metadata": {},
   "outputs": [],
   "source": [
    "df = pd.read_excel('modified.xlsx')\n",
    "df.drop([253], axis=0, inplace=True) #dropping the row with spike\n",
    "df\n",
    "df.to_excel('modified2.xlsx')"
   ]
  },
  {
   "cell_type": "markdown",
   "id": "832d82d6",
   "metadata": {},
   "source": [
    "# 9 Scatter Plot of birth_rate & dead_rate - Matplotlib"
   ]
  },
  {
   "cell_type": "code",
   "execution_count": 8,
   "id": "586dda9d",
   "metadata": {},
   "outputs": [
    {
     "name": "stdout",
     "output_type": "stream",
     "text": [
      "Using matplotlib backend: QtAgg\n"
     ]
    },
    {
     "data": {
      "application/vnd.plotly.v1+json": {
       "config": {
        "plotlyServerURL": "https://plot.ly"
       },
       "data": [
        {
         "hovertemplate": "birth_rate=%{x}<br>death_rate=%{y}<extra></extra>",
         "legendgroup": "",
         "marker": {
          "color": "#636efa",
          "symbol": "circle"
         },
         "mode": "markers",
         "name": "",
         "orientation": "v",
         "showlegend": false,
         "type": "scatter",
         "x": [
          38.57,
          12.92,
          23.67,
          8.13,
          38.78,
          15.85,
          16.64,
          13.61,
          12.15,
          9.41,
          16.64,
          15.5,
          13.66,
          21.14,
          11.87,
          10.7,
          11.41,
          24.68,
          36.02,
          17.78,
          22.76,
          8.87,
          20.96,
          14.46,
          17.32,
          8.92,
          42.03,
          18.39,
          42.01,
          23.83,
          36.17,
          10.28,
          20.33,
          35.08,
          36.6,
          13.83,
          12.49,
          16.47,
          27.84,
          34.88,
          35.85,
          15.91,
          28.67,
          9.45,
          9.9,
          11.41,
          9.63,
          10.27,
          23.65,
          15.41,
          18.73,
          18.51,
          22.9,
          16.46,
          33.31,
          30,
          10.51,
          37.27,
          19.43,
          10.72,
          12.38,
          34.49,
          30.86,
          12.74,
          8.47,
          31.09,
          8.66,
          16.03,
          24.89,
          35.74,
          33.38,
          15.59,
          22.31,
          23.14,
          9.16,
          13.91,
          19.55,
          16.72,
          17.99,
          31.45,
          14.84,
          18.48,
          8.74,
          18.16,
          7.93,
          25.37,
          19.15,
          26.4,
          21.46,
          14.52,
          8.19,
          null,
          19.91,
          22.98,
          24.25,
          10,
          14.59,
          25.47,
          34.41,
          18.03,
          10.45,
          10.1,
          11.37,
          11.55,
          32.61,
          41.56,
          19.71,
          15.75,
          44.99,
          10.18,
          25.6,
          31.34,
          13.29,
          18.78,
          20.54,
          12,
          6.65,
          20.25,
          10.42,
          18.2,
          38.58,
          19.8,
          24.95,
          20.64,
          10.83,
          13.33,
          18.03,
          45.45,
          37.64,
          12.14,
          24.44,
          22.58,
          11.05,
          18.32,
          24.38,
          16.37,
          18.28,
          24.27,
          9.74,
          9.27,
          9.84,
          9.14,
          11.6,
          33.75,
          13.5,
          13.7,
          13.57,
          20.87,
          8.63,
          34.23,
          18.51,
          34.52,
          9.08,
          14.19,
          37.03,
          8.27,
          9.91,
          8.42,
          25.77,
          40.45,
          20.75,
          36.91,
          9.64,
          15.85,
          29.19,
          16.34,
          24.67,
          11.99,
          10.5,
          22.17,
          24.38,
          36.39,
          11.19,
          34.16,
          34.13,
          23,
          13.46,
          16.64,
          16.33,
          19.4,
          23.74,
          43.79,
          10.72,
          15.43,
          12.17,
          12.49,
          13.07,
          17,
          25.04,
          null,
          19.16,
          15.96,
          29.98,
          42.13,
          32.26,
          8.47,
          10.2,
          null,
          null,
          null,
          null,
          null,
          null,
          9.23,
          8.88,
          13.77,
          14.48,
          null,
          15.22,
          15.33,
          null,
          null,
          7.42,
          13.45,
          12.56,
          13.8,
          13,
          14.33,
          null,
          null,
          null,
          null,
          null,
          null,
          12.67,
          11.33,
          null,
          10.91,
          12.11,
          null,
          10.9,
          14.08,
          9.84,
          11.91,
          11.1,
          11.26,
          null,
          9.88,
          null,
          16.13,
          22.89,
          16.82,
          null,
          18.32,
          10.86,
          10.31,
          null,
          null,
          31.11,
          null,
          null,
          22.99,
          30.24
         ],
         "xaxis": "x",
         "y": [
          13.89,
          6.58,
          4.31,
          6.96,
          11.49,
          5.69,
          7.33,
          9.34,
          7.14,
          9.42,
          7.07,
          7.05,
          2.69,
          5.61,
          8.44,
          13.36,
          9.63,
          5.97,
          8.21,
          6.69,
          6.52,
          9.75,
          13.39,
          6.58,
          3.52,
          14.44,
          11.72,
          7.96,
          9.27,
          7.68,
          10.11,
          8.42,
          6.11,
          13.8,
          14.28,
          6,
          7.53,
          5.4,
          7.57,
          10.07,
          10,
          4.55,
          9.55,
          12.18,
          7.72,
          6.62,
          10.34,
          10.25,
          7.73,
          7.91,
          4.55,
          5.06,
          4.77,
          5.69,
          8.19,
          7.52,
          12.4,
          8.19,
          6.04,
          9.83,
          9.16,
          13.12,
          7.15,
          10.82,
          11.42,
          7.22,
          11.09,
          8.08,
          4.77,
          9.46,
          14.33,
          7.32,
          7.83,
          5.17,
          12.73,
          6.28,
          7.32,
          6.37,
          5.94,
          3.77,
          6.48,
          5.15,
          10.19,
          6.7,
          9.51,
          3.79,
          8.21,
          6.89,
          7.12,
          9.21,
          6.75,
          null,
          2.18,
          6.65,
          7.63,
          14.31,
          4.88,
          14.89,
          9.69,
          3.58,
          7.12,
          14.27,
          7.24,
          9.08,
          6.81,
          8.41,
          5.03,
          3.89,
          12.89,
          9.09,
          4.21,
          8.2,
          6.91,
          5.26,
          4.23,
          12.59,
          9.24,
          6.35,
          9.43,
          4.81,
          12.1,
          13.91,
          5.87,
          6.56,
          8.66,
          7.36,
          5.08,
          12.42,
          12.9,
          8.12,
          3.36,
          6.49,
          7.99,
          4.81,
          6.53,
          4.68,
          6.01,
          6.11,
          10.19,
          11.02,
          1.53,
          11.9,
          13.69,
          8.96,
          7.09,
          7.42,
          7.18,
          5.32,
          8.45,
          7.24,
          3.33,
          8.46,
          13.66,
          6.89,
          10.81,
          3.43,
          9.74,
          11.37,
          3.85,
          13.62,
          9.91,
          8.18,
          9.04,
          6.11,
          7.66,
          6.13,
          13.56,
          9.4,
          8.13,
          4,
          6.18,
          8,
          7.8,
          6.1,
          7.26,
          4.85,
          8.56,
          5.98,
          5.88,
          6.13,
          8.74,
          10.69,
          14.46,
          1.97,
          9.35,
          8.15,
          9.45,
          5.3,
          4.09,
          null,
          5.31,
          5.93,
          6.28,
          12.67,
          10.13,
          7.11,
          10.2,
          null,
          null,
          null,
          null,
          null,
          null,
          7.07,
          4.22,
          8.71,
          8.49,
          null,
          5.02,
          5.52,
          null,
          null,
          9.72,
          5.06,
          8.18,
          8.2,
          4.51,
          8.03,
          null,
          null,
          null,
          null,
          null,
          null,
          4.57,
          8.23,
          null,
          4.99,
          5.53,
          null,
          4.9,
          8.37,
          8.78,
          7.68,
          10.06,
          6.3,
          null,
          7.44,
          null,
          3.1,
          4.75,
          5.12,
          null,
          3.71,
          8.67,
          8.54,
          null,
          null,
          3.04,
          null,
          null,
          3.5,
          8.34
         ],
         "yaxis": "y"
        }
       ],
       "layout": {
        "legend": {
         "tracegroupgap": 0
        },
        "margin": {
         "t": 60
        },
        "template": {
         "data": {
          "bar": [
           {
            "error_x": {
             "color": "#2a3f5f"
            },
            "error_y": {
             "color": "#2a3f5f"
            },
            "marker": {
             "line": {
              "color": "#E5ECF6",
              "width": 0.5
             },
             "pattern": {
              "fillmode": "overlay",
              "size": 10,
              "solidity": 0.2
             }
            },
            "type": "bar"
           }
          ],
          "barpolar": [
           {
            "marker": {
             "line": {
              "color": "#E5ECF6",
              "width": 0.5
             },
             "pattern": {
              "fillmode": "overlay",
              "size": 10,
              "solidity": 0.2
             }
            },
            "type": "barpolar"
           }
          ],
          "carpet": [
           {
            "aaxis": {
             "endlinecolor": "#2a3f5f",
             "gridcolor": "white",
             "linecolor": "white",
             "minorgridcolor": "white",
             "startlinecolor": "#2a3f5f"
            },
            "baxis": {
             "endlinecolor": "#2a3f5f",
             "gridcolor": "white",
             "linecolor": "white",
             "minorgridcolor": "white",
             "startlinecolor": "#2a3f5f"
            },
            "type": "carpet"
           }
          ],
          "choropleth": [
           {
            "colorbar": {
             "outlinewidth": 0,
             "ticks": ""
            },
            "type": "choropleth"
           }
          ],
          "contour": [
           {
            "colorbar": {
             "outlinewidth": 0,
             "ticks": ""
            },
            "colorscale": [
             [
              0,
              "#0d0887"
             ],
             [
              0.1111111111111111,
              "#46039f"
             ],
             [
              0.2222222222222222,
              "#7201a8"
             ],
             [
              0.3333333333333333,
              "#9c179e"
             ],
             [
              0.4444444444444444,
              "#bd3786"
             ],
             [
              0.5555555555555556,
              "#d8576b"
             ],
             [
              0.6666666666666666,
              "#ed7953"
             ],
             [
              0.7777777777777778,
              "#fb9f3a"
             ],
             [
              0.8888888888888888,
              "#fdca26"
             ],
             [
              1,
              "#f0f921"
             ]
            ],
            "type": "contour"
           }
          ],
          "contourcarpet": [
           {
            "colorbar": {
             "outlinewidth": 0,
             "ticks": ""
            },
            "type": "contourcarpet"
           }
          ],
          "heatmap": [
           {
            "colorbar": {
             "outlinewidth": 0,
             "ticks": ""
            },
            "colorscale": [
             [
              0,
              "#0d0887"
             ],
             [
              0.1111111111111111,
              "#46039f"
             ],
             [
              0.2222222222222222,
              "#7201a8"
             ],
             [
              0.3333333333333333,
              "#9c179e"
             ],
             [
              0.4444444444444444,
              "#bd3786"
             ],
             [
              0.5555555555555556,
              "#d8576b"
             ],
             [
              0.6666666666666666,
              "#ed7953"
             ],
             [
              0.7777777777777778,
              "#fb9f3a"
             ],
             [
              0.8888888888888888,
              "#fdca26"
             ],
             [
              1,
              "#f0f921"
             ]
            ],
            "type": "heatmap"
           }
          ],
          "heatmapgl": [
           {
            "colorbar": {
             "outlinewidth": 0,
             "ticks": ""
            },
            "colorscale": [
             [
              0,
              "#0d0887"
             ],
             [
              0.1111111111111111,
              "#46039f"
             ],
             [
              0.2222222222222222,
              "#7201a8"
             ],
             [
              0.3333333333333333,
              "#9c179e"
             ],
             [
              0.4444444444444444,
              "#bd3786"
             ],
             [
              0.5555555555555556,
              "#d8576b"
             ],
             [
              0.6666666666666666,
              "#ed7953"
             ],
             [
              0.7777777777777778,
              "#fb9f3a"
             ],
             [
              0.8888888888888888,
              "#fdca26"
             ],
             [
              1,
              "#f0f921"
             ]
            ],
            "type": "heatmapgl"
           }
          ],
          "histogram": [
           {
            "marker": {
             "pattern": {
              "fillmode": "overlay",
              "size": 10,
              "solidity": 0.2
             }
            },
            "type": "histogram"
           }
          ],
          "histogram2d": [
           {
            "colorbar": {
             "outlinewidth": 0,
             "ticks": ""
            },
            "colorscale": [
             [
              0,
              "#0d0887"
             ],
             [
              0.1111111111111111,
              "#46039f"
             ],
             [
              0.2222222222222222,
              "#7201a8"
             ],
             [
              0.3333333333333333,
              "#9c179e"
             ],
             [
              0.4444444444444444,
              "#bd3786"
             ],
             [
              0.5555555555555556,
              "#d8576b"
             ],
             [
              0.6666666666666666,
              "#ed7953"
             ],
             [
              0.7777777777777778,
              "#fb9f3a"
             ],
             [
              0.8888888888888888,
              "#fdca26"
             ],
             [
              1,
              "#f0f921"
             ]
            ],
            "type": "histogram2d"
           }
          ],
          "histogram2dcontour": [
           {
            "colorbar": {
             "outlinewidth": 0,
             "ticks": ""
            },
            "colorscale": [
             [
              0,
              "#0d0887"
             ],
             [
              0.1111111111111111,
              "#46039f"
             ],
             [
              0.2222222222222222,
              "#7201a8"
             ],
             [
              0.3333333333333333,
              "#9c179e"
             ],
             [
              0.4444444444444444,
              "#bd3786"
             ],
             [
              0.5555555555555556,
              "#d8576b"
             ],
             [
              0.6666666666666666,
              "#ed7953"
             ],
             [
              0.7777777777777778,
              "#fb9f3a"
             ],
             [
              0.8888888888888888,
              "#fdca26"
             ],
             [
              1,
              "#f0f921"
             ]
            ],
            "type": "histogram2dcontour"
           }
          ],
          "mesh3d": [
           {
            "colorbar": {
             "outlinewidth": 0,
             "ticks": ""
            },
            "type": "mesh3d"
           }
          ],
          "parcoords": [
           {
            "line": {
             "colorbar": {
              "outlinewidth": 0,
              "ticks": ""
             }
            },
            "type": "parcoords"
           }
          ],
          "pie": [
           {
            "automargin": true,
            "type": "pie"
           }
          ],
          "scatter": [
           {
            "fillpattern": {
             "fillmode": "overlay",
             "size": 10,
             "solidity": 0.2
            },
            "type": "scatter"
           }
          ],
          "scatter3d": [
           {
            "line": {
             "colorbar": {
              "outlinewidth": 0,
              "ticks": ""
             }
            },
            "marker": {
             "colorbar": {
              "outlinewidth": 0,
              "ticks": ""
             }
            },
            "type": "scatter3d"
           }
          ],
          "scattercarpet": [
           {
            "marker": {
             "colorbar": {
              "outlinewidth": 0,
              "ticks": ""
             }
            },
            "type": "scattercarpet"
           }
          ],
          "scattergeo": [
           {
            "marker": {
             "colorbar": {
              "outlinewidth": 0,
              "ticks": ""
             }
            },
            "type": "scattergeo"
           }
          ],
          "scattergl": [
           {
            "marker": {
             "colorbar": {
              "outlinewidth": 0,
              "ticks": ""
             }
            },
            "type": "scattergl"
           }
          ],
          "scattermapbox": [
           {
            "marker": {
             "colorbar": {
              "outlinewidth": 0,
              "ticks": ""
             }
            },
            "type": "scattermapbox"
           }
          ],
          "scatterpolar": [
           {
            "marker": {
             "colorbar": {
              "outlinewidth": 0,
              "ticks": ""
             }
            },
            "type": "scatterpolar"
           }
          ],
          "scatterpolargl": [
           {
            "marker": {
             "colorbar": {
              "outlinewidth": 0,
              "ticks": ""
             }
            },
            "type": "scatterpolargl"
           }
          ],
          "scatterternary": [
           {
            "marker": {
             "colorbar": {
              "outlinewidth": 0,
              "ticks": ""
             }
            },
            "type": "scatterternary"
           }
          ],
          "surface": [
           {
            "colorbar": {
             "outlinewidth": 0,
             "ticks": ""
            },
            "colorscale": [
             [
              0,
              "#0d0887"
             ],
             [
              0.1111111111111111,
              "#46039f"
             ],
             [
              0.2222222222222222,
              "#7201a8"
             ],
             [
              0.3333333333333333,
              "#9c179e"
             ],
             [
              0.4444444444444444,
              "#bd3786"
             ],
             [
              0.5555555555555556,
              "#d8576b"
             ],
             [
              0.6666666666666666,
              "#ed7953"
             ],
             [
              0.7777777777777778,
              "#fb9f3a"
             ],
             [
              0.8888888888888888,
              "#fdca26"
             ],
             [
              1,
              "#f0f921"
             ]
            ],
            "type": "surface"
           }
          ],
          "table": [
           {
            "cells": {
             "fill": {
              "color": "#EBF0F8"
             },
             "line": {
              "color": "white"
             }
            },
            "header": {
             "fill": {
              "color": "#C8D4E3"
             },
             "line": {
              "color": "white"
             }
            },
            "type": "table"
           }
          ]
         },
         "layout": {
          "annotationdefaults": {
           "arrowcolor": "#2a3f5f",
           "arrowhead": 0,
           "arrowwidth": 1
          },
          "autotypenumbers": "strict",
          "coloraxis": {
           "colorbar": {
            "outlinewidth": 0,
            "ticks": ""
           }
          },
          "colorscale": {
           "diverging": [
            [
             0,
             "#8e0152"
            ],
            [
             0.1,
             "#c51b7d"
            ],
            [
             0.2,
             "#de77ae"
            ],
            [
             0.3,
             "#f1b6da"
            ],
            [
             0.4,
             "#fde0ef"
            ],
            [
             0.5,
             "#f7f7f7"
            ],
            [
             0.6,
             "#e6f5d0"
            ],
            [
             0.7,
             "#b8e186"
            ],
            [
             0.8,
             "#7fbc41"
            ],
            [
             0.9,
             "#4d9221"
            ],
            [
             1,
             "#276419"
            ]
           ],
           "sequential": [
            [
             0,
             "#0d0887"
            ],
            [
             0.1111111111111111,
             "#46039f"
            ],
            [
             0.2222222222222222,
             "#7201a8"
            ],
            [
             0.3333333333333333,
             "#9c179e"
            ],
            [
             0.4444444444444444,
             "#bd3786"
            ],
            [
             0.5555555555555556,
             "#d8576b"
            ],
            [
             0.6666666666666666,
             "#ed7953"
            ],
            [
             0.7777777777777778,
             "#fb9f3a"
            ],
            [
             0.8888888888888888,
             "#fdca26"
            ],
            [
             1,
             "#f0f921"
            ]
           ],
           "sequentialminus": [
            [
             0,
             "#0d0887"
            ],
            [
             0.1111111111111111,
             "#46039f"
            ],
            [
             0.2222222222222222,
             "#7201a8"
            ],
            [
             0.3333333333333333,
             "#9c179e"
            ],
            [
             0.4444444444444444,
             "#bd3786"
            ],
            [
             0.5555555555555556,
             "#d8576b"
            ],
            [
             0.6666666666666666,
             "#ed7953"
            ],
            [
             0.7777777777777778,
             "#fb9f3a"
            ],
            [
             0.8888888888888888,
             "#fdca26"
            ],
            [
             1,
             "#f0f921"
            ]
           ]
          },
          "colorway": [
           "#636efa",
           "#EF553B",
           "#00cc96",
           "#ab63fa",
           "#FFA15A",
           "#19d3f3",
           "#FF6692",
           "#B6E880",
           "#FF97FF",
           "#FECB52"
          ],
          "font": {
           "color": "#2a3f5f"
          },
          "geo": {
           "bgcolor": "white",
           "lakecolor": "white",
           "landcolor": "#E5ECF6",
           "showlakes": true,
           "showland": true,
           "subunitcolor": "white"
          },
          "hoverlabel": {
           "align": "left"
          },
          "hovermode": "closest",
          "mapbox": {
           "style": "light"
          },
          "paper_bgcolor": "white",
          "plot_bgcolor": "#E5ECF6",
          "polar": {
           "angularaxis": {
            "gridcolor": "white",
            "linecolor": "white",
            "ticks": ""
           },
           "bgcolor": "#E5ECF6",
           "radialaxis": {
            "gridcolor": "white",
            "linecolor": "white",
            "ticks": ""
           }
          },
          "scene": {
           "xaxis": {
            "backgroundcolor": "#E5ECF6",
            "gridcolor": "white",
            "gridwidth": 2,
            "linecolor": "white",
            "showbackground": true,
            "ticks": "",
            "zerolinecolor": "white"
           },
           "yaxis": {
            "backgroundcolor": "#E5ECF6",
            "gridcolor": "white",
            "gridwidth": 2,
            "linecolor": "white",
            "showbackground": true,
            "ticks": "",
            "zerolinecolor": "white"
           },
           "zaxis": {
            "backgroundcolor": "#E5ECF6",
            "gridcolor": "white",
            "gridwidth": 2,
            "linecolor": "white",
            "showbackground": true,
            "ticks": "",
            "zerolinecolor": "white"
           }
          },
          "shapedefaults": {
           "line": {
            "color": "#2a3f5f"
           }
          },
          "ternary": {
           "aaxis": {
            "gridcolor": "white",
            "linecolor": "white",
            "ticks": ""
           },
           "baxis": {
            "gridcolor": "white",
            "linecolor": "white",
            "ticks": ""
           },
           "bgcolor": "#E5ECF6",
           "caxis": {
            "gridcolor": "white",
            "linecolor": "white",
            "ticks": ""
           }
          },
          "title": {
           "x": 0.05
          },
          "xaxis": {
           "automargin": true,
           "gridcolor": "white",
           "linecolor": "white",
           "ticks": "",
           "title": {
            "standoff": 15
           },
           "zerolinecolor": "white",
           "zerolinewidth": 2
          },
          "yaxis": {
           "automargin": true,
           "gridcolor": "white",
           "linecolor": "white",
           "ticks": "",
           "title": {
            "standoff": 15
           },
           "zerolinecolor": "white",
           "zerolinewidth": 2
          }
         }
        },
        "xaxis": {
         "anchor": "y",
         "domain": [
          0,
          1
         ],
         "title": {
          "text": "birth_rate"
         }
        },
        "yaxis": {
         "anchor": "x",
         "domain": [
          0,
          1
         ],
         "title": {
          "text": "death_rate"
         }
        }
       }
      },
      "text/html": [
       "<div>                            <div id=\"4dc043ce-567d-4487-ac40-fac0e3aa75ae\" class=\"plotly-graph-div\" style=\"height:525px; width:100%;\"></div>            <script type=\"text/javascript\">                require([\"plotly\"], function(Plotly) {                    window.PLOTLYENV=window.PLOTLYENV || {};                                    if (document.getElementById(\"4dc043ce-567d-4487-ac40-fac0e3aa75ae\")) {                    Plotly.newPlot(                        \"4dc043ce-567d-4487-ac40-fac0e3aa75ae\",                        [{\"hovertemplate\":\"birth_rate=%{x}<br>death_rate=%{y}<extra></extra>\",\"legendgroup\":\"\",\"marker\":{\"color\":\"#636efa\",\"symbol\":\"circle\"},\"mode\":\"markers\",\"name\":\"\",\"orientation\":\"v\",\"showlegend\":false,\"x\":[38.57,12.92,23.67,8.13,38.78,15.85,16.64,13.61,12.15,9.41,16.64,15.5,13.66,21.14,11.87,10.7,11.41,24.68,36.02,17.78,22.76,8.87,20.96,14.46,17.32,8.92,42.03,18.39,42.01,23.83,36.17,10.28,20.33,35.08,36.6,13.83,12.49,16.47,27.84,34.88,35.85,15.91,28.67,9.45,9.9,11.41,9.63,10.27,23.65,15.41,18.73,18.51,22.9,16.46,33.31,30.0,10.51,37.27,19.43,10.72,12.38,34.49,30.86,12.74,8.47,31.09,8.66,16.03,24.89,35.74,33.38,15.59,22.31,23.14,9.16,13.91,19.55,16.72,17.99,31.45,14.84,18.48,8.74,18.16,7.93,25.37,19.15,26.4,21.46,14.52,8.19,null,19.91,22.98,24.25,10.0,14.59,25.47,34.41,18.03,10.45,10.1,11.37,11.55,32.61,41.56,19.71,15.75,44.99,10.18,25.6,31.34,13.29,18.78,20.54,12.0,6.65,20.25,10.42,18.2,38.58,19.8,24.95,20.64,10.83,13.33,18.03,45.45,37.64,12.14,24.44,22.58,11.05,18.32,24.38,16.37,18.28,24.27,9.74,9.27,9.84,9.14,11.6,33.75,13.5,13.7,13.57,20.87,8.63,34.23,18.51,34.52,9.08,14.19,37.03,8.27,9.91,8.42,25.77,40.45,20.75,36.91,9.64,15.85,29.19,16.34,24.67,11.99,10.5,22.17,24.38,36.39,11.19,34.16,34.13,23.0,13.46,16.64,16.33,19.4,23.74,43.79,10.72,15.43,12.17,12.49,13.07,17.0,25.04,null,19.16,15.96,29.98,42.13,32.26,8.47,10.2,null,null,null,null,null,null,9.23,8.88,13.77,14.48,null,15.22,15.33,null,null,7.42,13.45,12.56,13.8,13.0,14.33,null,null,null,null,null,null,12.67,11.33,null,10.91,12.11,null,10.9,14.08,9.84,11.91,11.1,11.26,null,9.88,null,16.13,22.89,16.82,null,18.32,10.86,10.31,null,null,31.11,null,null,22.99,30.24],\"xaxis\":\"x\",\"y\":[13.89,6.58,4.31,6.96,11.49,5.69,7.33,9.34,7.14,9.42,7.07,7.05,2.69,5.61,8.44,13.36,9.63,5.97,8.21,6.69,6.52,9.75,13.39,6.58,3.52,14.44,11.72,7.96,9.27,7.68,10.11,8.42,6.11,13.8,14.28,6.0,7.53,5.4,7.57,10.07,10.0,4.55,9.55,12.18,7.72,6.62,10.34,10.25,7.73,7.91,4.55,5.06,4.77,5.69,8.19,7.52,12.4,8.19,6.04,9.83,9.16,13.12,7.15,10.82,11.42,7.22,11.09,8.08,4.77,9.46,14.33,7.32,7.83,5.17,12.73,6.28,7.32,6.37,5.94,3.77,6.48,5.15,10.19,6.7,9.51,3.79,8.21,6.89,7.12,9.21,6.75,null,2.18,6.65,7.63,14.31,4.88,14.89,9.69,3.58,7.12,14.27,7.24,9.08,6.81,8.41,5.03,3.89,12.89,9.09,4.21,8.2,6.91,5.26,4.23,12.59,9.24,6.35,9.43,4.81,12.1,13.91,5.87,6.56,8.66,7.36,5.08,12.42,12.9,8.12,3.36,6.49,7.99,4.81,6.53,4.68,6.01,6.11,10.19,11.02,1.53,11.9,13.69,8.96,7.09,7.42,7.18,5.32,8.45,7.24,3.33,8.46,13.66,6.89,10.81,3.43,9.74,11.37,3.85,13.62,9.91,8.18,9.04,6.11,7.66,6.13,13.56,9.4,8.13,4.0,6.18,8.0,7.8,6.1,7.26,4.85,8.56,5.98,5.88,6.13,8.74,10.69,14.46,1.97,9.35,8.15,9.45,5.3,4.09,null,5.31,5.93,6.28,12.67,10.13,7.11,10.2,null,null,null,null,null,null,7.07,4.22,8.71,8.49,null,5.02,5.52,null,null,9.72,5.06,8.18,8.2,4.51,8.03,null,null,null,null,null,null,4.57,8.23,null,4.99,5.53,null,4.9,8.37,8.78,7.68,10.06,6.3,null,7.44,null,3.1,4.75,5.12,null,3.71,8.67,8.54,null,null,3.04,null,null,3.5,8.34],\"yaxis\":\"y\",\"type\":\"scatter\"}],                        {\"template\":{\"data\":{\"histogram2dcontour\":[{\"type\":\"histogram2dcontour\",\"colorbar\":{\"outlinewidth\":0,\"ticks\":\"\"},\"colorscale\":[[0.0,\"#0d0887\"],[0.1111111111111111,\"#46039f\"],[0.2222222222222222,\"#7201a8\"],[0.3333333333333333,\"#9c179e\"],[0.4444444444444444,\"#bd3786\"],[0.5555555555555556,\"#d8576b\"],[0.6666666666666666,\"#ed7953\"],[0.7777777777777778,\"#fb9f3a\"],[0.8888888888888888,\"#fdca26\"],[1.0,\"#f0f921\"]]}],\"choropleth\":[{\"type\":\"choropleth\",\"colorbar\":{\"outlinewidth\":0,\"ticks\":\"\"}}],\"histogram2d\":[{\"type\":\"histogram2d\",\"colorbar\":{\"outlinewidth\":0,\"ticks\":\"\"},\"colorscale\":[[0.0,\"#0d0887\"],[0.1111111111111111,\"#46039f\"],[0.2222222222222222,\"#7201a8\"],[0.3333333333333333,\"#9c179e\"],[0.4444444444444444,\"#bd3786\"],[0.5555555555555556,\"#d8576b\"],[0.6666666666666666,\"#ed7953\"],[0.7777777777777778,\"#fb9f3a\"],[0.8888888888888888,\"#fdca26\"],[1.0,\"#f0f921\"]]}],\"heatmap\":[{\"type\":\"heatmap\",\"colorbar\":{\"outlinewidth\":0,\"ticks\":\"\"},\"colorscale\":[[0.0,\"#0d0887\"],[0.1111111111111111,\"#46039f\"],[0.2222222222222222,\"#7201a8\"],[0.3333333333333333,\"#9c179e\"],[0.4444444444444444,\"#bd3786\"],[0.5555555555555556,\"#d8576b\"],[0.6666666666666666,\"#ed7953\"],[0.7777777777777778,\"#fb9f3a\"],[0.8888888888888888,\"#fdca26\"],[1.0,\"#f0f921\"]]}],\"heatmapgl\":[{\"type\":\"heatmapgl\",\"colorbar\":{\"outlinewidth\":0,\"ticks\":\"\"},\"colorscale\":[[0.0,\"#0d0887\"],[0.1111111111111111,\"#46039f\"],[0.2222222222222222,\"#7201a8\"],[0.3333333333333333,\"#9c179e\"],[0.4444444444444444,\"#bd3786\"],[0.5555555555555556,\"#d8576b\"],[0.6666666666666666,\"#ed7953\"],[0.7777777777777778,\"#fb9f3a\"],[0.8888888888888888,\"#fdca26\"],[1.0,\"#f0f921\"]]}],\"contourcarpet\":[{\"type\":\"contourcarpet\",\"colorbar\":{\"outlinewidth\":0,\"ticks\":\"\"}}],\"contour\":[{\"type\":\"contour\",\"colorbar\":{\"outlinewidth\":0,\"ticks\":\"\"},\"colorscale\":[[0.0,\"#0d0887\"],[0.1111111111111111,\"#46039f\"],[0.2222222222222222,\"#7201a8\"],[0.3333333333333333,\"#9c179e\"],[0.4444444444444444,\"#bd3786\"],[0.5555555555555556,\"#d8576b\"],[0.6666666666666666,\"#ed7953\"],[0.7777777777777778,\"#fb9f3a\"],[0.8888888888888888,\"#fdca26\"],[1.0,\"#f0f921\"]]}],\"surface\":[{\"type\":\"surface\",\"colorbar\":{\"outlinewidth\":0,\"ticks\":\"\"},\"colorscale\":[[0.0,\"#0d0887\"],[0.1111111111111111,\"#46039f\"],[0.2222222222222222,\"#7201a8\"],[0.3333333333333333,\"#9c179e\"],[0.4444444444444444,\"#bd3786\"],[0.5555555555555556,\"#d8576b\"],[0.6666666666666666,\"#ed7953\"],[0.7777777777777778,\"#fb9f3a\"],[0.8888888888888888,\"#fdca26\"],[1.0,\"#f0f921\"]]}],\"mesh3d\":[{\"type\":\"mesh3d\",\"colorbar\":{\"outlinewidth\":0,\"ticks\":\"\"}}],\"scatter\":[{\"fillpattern\":{\"fillmode\":\"overlay\",\"size\":10,\"solidity\":0.2},\"type\":\"scatter\"}],\"parcoords\":[{\"type\":\"parcoords\",\"line\":{\"colorbar\":{\"outlinewidth\":0,\"ticks\":\"\"}}}],\"scatterpolargl\":[{\"type\":\"scatterpolargl\",\"marker\":{\"colorbar\":{\"outlinewidth\":0,\"ticks\":\"\"}}}],\"bar\":[{\"error_x\":{\"color\":\"#2a3f5f\"},\"error_y\":{\"color\":\"#2a3f5f\"},\"marker\":{\"line\":{\"color\":\"#E5ECF6\",\"width\":0.5},\"pattern\":{\"fillmode\":\"overlay\",\"size\":10,\"solidity\":0.2}},\"type\":\"bar\"}],\"scattergeo\":[{\"type\":\"scattergeo\",\"marker\":{\"colorbar\":{\"outlinewidth\":0,\"ticks\":\"\"}}}],\"scatterpolar\":[{\"type\":\"scatterpolar\",\"marker\":{\"colorbar\":{\"outlinewidth\":0,\"ticks\":\"\"}}}],\"histogram\":[{\"marker\":{\"pattern\":{\"fillmode\":\"overlay\",\"size\":10,\"solidity\":0.2}},\"type\":\"histogram\"}],\"scattergl\":[{\"type\":\"scattergl\",\"marker\":{\"colorbar\":{\"outlinewidth\":0,\"ticks\":\"\"}}}],\"scatter3d\":[{\"type\":\"scatter3d\",\"line\":{\"colorbar\":{\"outlinewidth\":0,\"ticks\":\"\"}},\"marker\":{\"colorbar\":{\"outlinewidth\":0,\"ticks\":\"\"}}}],\"scattermapbox\":[{\"type\":\"scattermapbox\",\"marker\":{\"colorbar\":{\"outlinewidth\":0,\"ticks\":\"\"}}}],\"scatterternary\":[{\"type\":\"scatterternary\",\"marker\":{\"colorbar\":{\"outlinewidth\":0,\"ticks\":\"\"}}}],\"scattercarpet\":[{\"type\":\"scattercarpet\",\"marker\":{\"colorbar\":{\"outlinewidth\":0,\"ticks\":\"\"}}}],\"carpet\":[{\"aaxis\":{\"endlinecolor\":\"#2a3f5f\",\"gridcolor\":\"white\",\"linecolor\":\"white\",\"minorgridcolor\":\"white\",\"startlinecolor\":\"#2a3f5f\"},\"baxis\":{\"endlinecolor\":\"#2a3f5f\",\"gridcolor\":\"white\",\"linecolor\":\"white\",\"minorgridcolor\":\"white\",\"startlinecolor\":\"#2a3f5f\"},\"type\":\"carpet\"}],\"table\":[{\"cells\":{\"fill\":{\"color\":\"#EBF0F8\"},\"line\":{\"color\":\"white\"}},\"header\":{\"fill\":{\"color\":\"#C8D4E3\"},\"line\":{\"color\":\"white\"}},\"type\":\"table\"}],\"barpolar\":[{\"marker\":{\"line\":{\"color\":\"#E5ECF6\",\"width\":0.5},\"pattern\":{\"fillmode\":\"overlay\",\"size\":10,\"solidity\":0.2}},\"type\":\"barpolar\"}],\"pie\":[{\"automargin\":true,\"type\":\"pie\"}]},\"layout\":{\"autotypenumbers\":\"strict\",\"colorway\":[\"#636efa\",\"#EF553B\",\"#00cc96\",\"#ab63fa\",\"#FFA15A\",\"#19d3f3\",\"#FF6692\",\"#B6E880\",\"#FF97FF\",\"#FECB52\"],\"font\":{\"color\":\"#2a3f5f\"},\"hovermode\":\"closest\",\"hoverlabel\":{\"align\":\"left\"},\"paper_bgcolor\":\"white\",\"plot_bgcolor\":\"#E5ECF6\",\"polar\":{\"bgcolor\":\"#E5ECF6\",\"angularaxis\":{\"gridcolor\":\"white\",\"linecolor\":\"white\",\"ticks\":\"\"},\"radialaxis\":{\"gridcolor\":\"white\",\"linecolor\":\"white\",\"ticks\":\"\"}},\"ternary\":{\"bgcolor\":\"#E5ECF6\",\"aaxis\":{\"gridcolor\":\"white\",\"linecolor\":\"white\",\"ticks\":\"\"},\"baxis\":{\"gridcolor\":\"white\",\"linecolor\":\"white\",\"ticks\":\"\"},\"caxis\":{\"gridcolor\":\"white\",\"linecolor\":\"white\",\"ticks\":\"\"}},\"coloraxis\":{\"colorbar\":{\"outlinewidth\":0,\"ticks\":\"\"}},\"colorscale\":{\"sequential\":[[0.0,\"#0d0887\"],[0.1111111111111111,\"#46039f\"],[0.2222222222222222,\"#7201a8\"],[0.3333333333333333,\"#9c179e\"],[0.4444444444444444,\"#bd3786\"],[0.5555555555555556,\"#d8576b\"],[0.6666666666666666,\"#ed7953\"],[0.7777777777777778,\"#fb9f3a\"],[0.8888888888888888,\"#fdca26\"],[1.0,\"#f0f921\"]],\"sequentialminus\":[[0.0,\"#0d0887\"],[0.1111111111111111,\"#46039f\"],[0.2222222222222222,\"#7201a8\"],[0.3333333333333333,\"#9c179e\"],[0.4444444444444444,\"#bd3786\"],[0.5555555555555556,\"#d8576b\"],[0.6666666666666666,\"#ed7953\"],[0.7777777777777778,\"#fb9f3a\"],[0.8888888888888888,\"#fdca26\"],[1.0,\"#f0f921\"]],\"diverging\":[[0,\"#8e0152\"],[0.1,\"#c51b7d\"],[0.2,\"#de77ae\"],[0.3,\"#f1b6da\"],[0.4,\"#fde0ef\"],[0.5,\"#f7f7f7\"],[0.6,\"#e6f5d0\"],[0.7,\"#b8e186\"],[0.8,\"#7fbc41\"],[0.9,\"#4d9221\"],[1,\"#276419\"]]},\"xaxis\":{\"gridcolor\":\"white\",\"linecolor\":\"white\",\"ticks\":\"\",\"title\":{\"standoff\":15},\"zerolinecolor\":\"white\",\"automargin\":true,\"zerolinewidth\":2},\"yaxis\":{\"gridcolor\":\"white\",\"linecolor\":\"white\",\"ticks\":\"\",\"title\":{\"standoff\":15},\"zerolinecolor\":\"white\",\"automargin\":true,\"zerolinewidth\":2},\"scene\":{\"xaxis\":{\"backgroundcolor\":\"#E5ECF6\",\"gridcolor\":\"white\",\"linecolor\":\"white\",\"showbackground\":true,\"ticks\":\"\",\"zerolinecolor\":\"white\",\"gridwidth\":2},\"yaxis\":{\"backgroundcolor\":\"#E5ECF6\",\"gridcolor\":\"white\",\"linecolor\":\"white\",\"showbackground\":true,\"ticks\":\"\",\"zerolinecolor\":\"white\",\"gridwidth\":2},\"zaxis\":{\"backgroundcolor\":\"#E5ECF6\",\"gridcolor\":\"white\",\"linecolor\":\"white\",\"showbackground\":true,\"ticks\":\"\",\"zerolinecolor\":\"white\",\"gridwidth\":2}},\"shapedefaults\":{\"line\":{\"color\":\"#2a3f5f\"}},\"annotationdefaults\":{\"arrowcolor\":\"#2a3f5f\",\"arrowhead\":0,\"arrowwidth\":1},\"geo\":{\"bgcolor\":\"white\",\"landcolor\":\"#E5ECF6\",\"subunitcolor\":\"white\",\"showland\":true,\"showlakes\":true,\"lakecolor\":\"white\"},\"title\":{\"x\":0.05},\"mapbox\":{\"style\":\"light\"}}},\"xaxis\":{\"anchor\":\"y\",\"domain\":[0.0,1.0],\"title\":{\"text\":\"birth_rate\"}},\"yaxis\":{\"anchor\":\"x\",\"domain\":[0.0,1.0],\"title\":{\"text\":\"death_rate\"}},\"legend\":{\"tracegroupgap\":0},\"margin\":{\"t\":60}},                        {\"responsive\": true}                    ).then(function(){\n",
       "                            \n",
       "var gd = document.getElementById('4dc043ce-567d-4487-ac40-fac0e3aa75ae');\n",
       "var x = new MutationObserver(function (mutations, observer) {{\n",
       "        var display = window.getComputedStyle(gd).display;\n",
       "        if (!display || display === 'none') {{\n",
       "            console.log([gd, 'removed!']);\n",
       "            Plotly.purge(gd);\n",
       "            observer.disconnect();\n",
       "        }}\n",
       "}});\n",
       "\n",
       "// Listen for the removal of the full notebook cells\n",
       "var notebookContainer = gd.closest('#notebook-container');\n",
       "if (notebookContainer) {{\n",
       "    x.observe(notebookContainer, {childList: true});\n",
       "}}\n",
       "\n",
       "// Listen for the clearing of the current output cell\n",
       "var outputEl = gd.closest('.output');\n",
       "if (outputEl) {{\n",
       "    x.observe(outputEl, {childList: true});\n",
       "}}\n",
       "\n",
       "                        })                };                });            </script>        </div>"
      ]
     },
     "metadata": {},
     "output_type": "display_data"
    }
   ],
   "source": [
    "%matplotlib\n",
    "import pandas as pd\n",
    "import matplotlib.pyplot as plt\n",
    "df = pd.read_excel('modified2.xlsx')\n",
    "df.plot.scatter(x='birth_rate', y='death_rate', s=60, c='pink')\n"
   ]
  },
  {
   "cell_type": "markdown",
   "id": "91c65229",
   "metadata": {},
   "source": [
    "# 10 Scatter Plot of birth_rate & dead_rate - Plotly\n",
    "* Matplotlib scatter has limitations in terms of being able to dive into the specific points and understand what's happening in each \"cluster\" (there are also too many data points). Tableau has the zoom in/out functionality but can't activate trial atm so I made research and read about Plotly. You might not be able to Zoom in out on Git but I can share my screen during the presentation and we can explore together.\n",
    "* e.g. Top right \"cluster\" with highest birth_rates & dead_rates belongs mainly to African countires etc."
   ]
  },
  {
   "cell_type": "code",
   "execution_count": 7,
   "id": "7f036ea2",
   "metadata": {},
   "outputs": [
    {
     "data": {
      "application/vnd.plotly.v1+json": {
       "config": {
        "plotlyServerURL": "https://plot.ly"
       },
       "data": [
        {
         "hovertemplate": "birth_rate=%{x}<br>death_rate=%{marker.color}<br>name=%{text}<extra></extra>",
         "legendgroup": "",
         "marker": {
          "color": [
           13.89,
           6.58,
           4.31,
           6.96,
           11.49,
           5.69,
           7.33,
           9.34,
           7.14,
           9.42,
           7.07,
           7.05,
           2.69,
           5.61,
           8.44,
           13.36,
           9.63,
           5.97,
           8.21,
           6.69,
           6.52,
           9.75,
           13.39,
           6.58,
           3.52,
           14.44,
           11.72,
           7.96,
           9.27,
           7.68,
           10.11,
           8.42,
           6.11,
           13.8,
           14.28,
           6,
           7.53,
           5.4,
           7.57,
           10.07,
           10,
           4.55,
           9.55,
           12.18,
           7.72,
           6.62,
           10.34,
           10.25,
           7.73,
           7.91,
           4.55,
           5.06,
           4.77,
           5.69,
           8.19,
           7.52,
           12.4,
           8.19,
           6.04,
           9.83,
           9.16,
           13.12,
           7.15,
           10.82,
           11.42,
           7.22,
           11.09,
           8.08,
           4.77,
           9.46,
           14.33,
           7.32,
           7.83,
           5.17,
           12.73,
           6.28,
           7.32,
           6.37,
           5.94,
           3.77,
           6.48,
           5.15,
           10.19,
           6.7,
           9.51,
           3.79,
           8.21,
           6.89,
           7.12,
           9.21,
           6.75,
           null,
           2.18,
           6.65,
           7.63,
           14.31,
           4.88,
           14.89,
           9.69,
           3.58,
           7.12,
           14.27,
           7.24,
           9.08,
           6.81,
           8.41,
           5.03,
           3.89,
           12.89,
           9.09,
           4.21,
           8.2,
           6.91,
           5.26,
           4.23,
           12.59,
           9.24,
           6.35,
           9.43,
           4.81,
           12.1,
           13.91,
           5.87,
           6.56,
           8.66,
           7.36,
           5.08,
           12.42,
           12.9,
           8.12,
           3.36,
           6.49,
           7.99,
           4.81,
           6.53,
           4.68,
           6.01,
           6.11,
           10.19,
           11.02,
           1.53,
           11.9,
           13.69,
           8.96,
           7.09,
           7.42,
           7.18,
           5.32,
           8.45,
           7.24,
           3.33,
           8.46,
           13.66,
           6.89,
           10.81,
           3.43,
           9.74,
           11.37,
           3.85,
           13.62,
           9.91,
           8.18,
           9.04,
           6.11,
           7.66,
           6.13,
           13.56,
           9.4,
           8.13,
           4,
           6.18,
           8,
           7.8,
           6.1,
           7.26,
           4.85,
           8.56,
           5.98,
           5.88,
           6.13,
           8.74,
           10.69,
           14.46,
           1.97,
           9.35,
           8.15,
           9.45,
           5.3,
           4.09,
           null,
           5.31,
           5.93,
           6.28,
           12.67,
           10.13,
           7.11,
           10.2,
           null,
           null,
           null,
           null,
           null,
           null,
           7.07,
           4.22,
           8.71,
           8.49,
           null,
           5.02,
           5.52,
           null,
           null,
           9.72,
           5.06,
           8.18,
           8.2,
           4.51,
           8.03,
           null,
           null,
           null,
           null,
           null,
           null,
           4.57,
           8.23,
           null,
           4.99,
           5.53,
           null,
           4.9,
           8.37,
           8.78,
           7.68,
           10.06,
           6.3,
           null,
           7.44,
           null,
           3.1,
           4.75,
           5.12,
           null,
           3.71,
           8.67,
           8.54,
           null,
           null,
           3.04,
           null,
           null,
           3.5,
           8.34
          ],
          "coloraxis": "coloraxis",
          "symbol": "circle"
         },
         "mode": "markers+text",
         "name": "",
         "orientation": "v",
         "showlegend": false,
         "text": [
          "Afghanistan",
          "Albania",
          "Algeria",
          "Andorra",
          "Angola",
          "Antigua and Barbuda",
          "Argentina",
          "Armenia",
          "Australia",
          "Austria",
          "Azerbaijan",
          "Bahamas, The",
          "Bahrain",
          "Bangladesh",
          "Barbados",
          "Belarus",
          "Belgium",
          "Belize",
          "Benin",
          "Bhutan",
          "Bolivia",
          "Bosnia and Herzegovina",
          "Botswana",
          "Brazil",
          "Brunei",
          "Bulgaria",
          "Burkina Faso",
          "Burma",
          "Burundi",
          "Cambodia",
          "Cameroon",
          "Canada",
          "Cabo Verde",
          "Central African Republic",
          "Chad",
          "Chile",
          "China",
          "Colombia",
          "Comoros",
          "Congo, Democratic Republic of the",
          "Congo, Republic of the",
          "Costa Rica",
          "Cote d'Ivoire",
          "Croatia",
          "Cuba",
          "Cyprus",
          "Czech Republic",
          "Denmark",
          "Djibouti",
          "Dominica",
          "Dominican Republic",
          "Ecuador",
          "Egypt",
          "El Salvador",
          "Equatorial Guinea",
          "Eritrea",
          "Estonia",
          "Ethiopia",
          "Fiji",
          "Finland",
          "France",
          "Gabon",
          "Gambia, The",
          "Georgia",
          "Germany",
          "Ghana",
          "Greece",
          "Grenada",
          "Guatemala",
          "Guinea",
          "Guinea-Bissau",
          "Guyana",
          "Haiti",
          "Honduras",
          "Hungary",
          "Iceland",
          "India",
          "Indonesia",
          "Iran",
          "Iraq",
          "Ireland",
          "Israel",
          "Italy",
          "Jamaica",
          "Japan",
          "Jordan",
          "Kazakhstan",
          "Kenya",
          "Kiribati",
          "Korea, North",
          "Korea, South",
          "Kosovo",
          "Kuwait",
          "Kyrgyzstan",
          "Laos",
          "Latvia",
          "Lebanon",
          "Lesotho",
          "Liberia",
          "Libya",
          "Liechtenstein",
          "Lithuania",
          "Luxembourg",
          "Macedonia",
          "Madagascar",
          "Malawi",
          "Malaysia",
          "Maldives",
          "Mali",
          "Malta",
          "Marshall Islands",
          "Mauritania",
          "Mauritius",
          "Mexico",
          "Micronesia, Federated States of",
          "Moldova",
          "Monaco",
          "Mongolia",
          "Montenegro",
          "Morocco",
          "Mozambique",
          "Namibia",
          "Nauru",
          "Nepal",
          "Netherlands",
          "New Zealand",
          "Nicaragua",
          "Niger",
          "Nigeria",
          "Norway",
          "Oman",
          "Pakistan",
          "Palau",
          "Panama",
          "Papua New Guinea",
          "Paraguay",
          "Peru",
          "Philippines",
          "Poland",
          "Portugal",
          "Qatar",
          "Romania",
          "Russia",
          "Rwanda",
          "Saint Kitts and Nevis",
          "Saint Lucia",
          "Saint Vincent and the Grenadines",
          "Samoa",
          "San Marino",
          "Sao Tome and Principe",
          "Saudi Arabia",
          "Senegal",
          "Serbia",
          "Seychelles",
          "Sierra Leone",
          "Singapore",
          "Slovakia",
          "Slovenia",
          "Solomon Islands",
          "Somalia",
          "South Africa",
          "South Sudan",
          "Spain",
          "Sri Lanka",
          "Sudan",
          "Suriname",
          "Swaziland",
          "Sweden",
          "Switzerland",
          "Syria",
          "Tajikistan",
          "Tanzania",
          "Thailand",
          "Timor-Leste",
          "Togo",
          "Tonga",
          "Trinidad and Tobago",
          "Tunisia",
          "Turkey",
          "Turkmenistan",
          "Tuvalu",
          "Uganda",
          "Ukraine",
          "United Arab Emirates",
          "United Kingdom",
          "United States",
          "Uruguay",
          "Uzbekistan",
          "Vanuatu",
          "Holy See (Vatican City)",
          "Venezuela",
          "Vietnam",
          "Yemen",
          "Zambia",
          "Zimbabwe",
          "Taiwan",
          "European Union",
          "Ashmore and Cartier Islands",
          "Christmas Island",
          "Cocos (Keeling) Islands",
          "Coral Sea Islands",
          "Heard Island and McDonald Islands",
          "Norfolk Island",
          "Hong Kong",
          "Macau",
          "Faroe Islands",
          "Greenland",
          "Clipperton Island",
          "French Polynesia",
          "New Caledonia",
          "Saint Barthelemy",
          "Saint Martin",
          "Saint Pierre and Miquelon",
          "Wallis and Futuna",
          "Aruba",
          "Curacao",
          "Sint Maarten",
          "Cook Islands",
          "Niue",
          "Tokelau",
          "Bouvet Island",
          "Jan Mayen",
          "Svalbard",
          "Akrotiri",
          "Anguilla",
          "Bermuda",
          "British Indian Ocean Territory",
          "British Virgin Islands",
          "Cayman Islands",
          "Dhekelia",
          "Falkland Islands (Islas Malvinas)",
          "Gibraltar",
          "Guernsey",
          "Jersey",
          "Isle of Man",
          "Montserrat",
          "Pitcairn Islands",
          "Saint Helena, Ascension, and Tristan da Cunha",
          "South Georgia and South Sandwich Islands",
          "Turks and Caicos Islands",
          "American Samoa",
          "Guam",
          "Navassa Island",
          "Northern Mariana Islands",
          "Puerto Rico",
          "Virgin Islands",
          "Wake Island",
          "Antarctica",
          "Gaza Strip",
          "Paracel Islands",
          "Spratly Islands",
          "West Bank",
          "Western Sahara"
         ],
         "textposition": "top center",
         "type": "scatter",
         "x": [
          38.57,
          12.92,
          23.67,
          8.13,
          38.78,
          15.85,
          16.64,
          13.61,
          12.15,
          9.41,
          16.64,
          15.5,
          13.66,
          21.14,
          11.87,
          10.7,
          11.41,
          24.68,
          36.02,
          17.78,
          22.76,
          8.87,
          20.96,
          14.46,
          17.32,
          8.92,
          42.03,
          18.39,
          42.01,
          23.83,
          36.17,
          10.28,
          20.33,
          35.08,
          36.6,
          13.83,
          12.49,
          16.47,
          27.84,
          34.88,
          35.85,
          15.91,
          28.67,
          9.45,
          9.9,
          11.41,
          9.63,
          10.27,
          23.65,
          15.41,
          18.73,
          18.51,
          22.9,
          16.46,
          33.31,
          30,
          10.51,
          37.27,
          19.43,
          10.72,
          12.38,
          34.49,
          30.86,
          12.74,
          8.47,
          31.09,
          8.66,
          16.03,
          24.89,
          35.74,
          33.38,
          15.59,
          22.31,
          23.14,
          9.16,
          13.91,
          19.55,
          16.72,
          17.99,
          31.45,
          14.84,
          18.48,
          8.74,
          18.16,
          7.93,
          25.37,
          19.15,
          26.4,
          21.46,
          14.52,
          8.19,
          null,
          19.91,
          22.98,
          24.25,
          10,
          14.59,
          25.47,
          34.41,
          18.03,
          10.45,
          10.1,
          11.37,
          11.55,
          32.61,
          41.56,
          19.71,
          15.75,
          44.99,
          10.18,
          25.6,
          31.34,
          13.29,
          18.78,
          20.54,
          12,
          6.65,
          20.25,
          10.42,
          18.2,
          38.58,
          19.8,
          24.95,
          20.64,
          10.83,
          13.33,
          18.03,
          45.45,
          37.64,
          12.14,
          24.44,
          22.58,
          11.05,
          18.32,
          24.38,
          16.37,
          18.28,
          24.27,
          9.74,
          9.27,
          9.84,
          9.14,
          11.6,
          33.75,
          13.5,
          13.7,
          13.57,
          20.87,
          8.63,
          34.23,
          18.51,
          34.52,
          9.08,
          14.19,
          37.03,
          8.27,
          9.91,
          8.42,
          25.77,
          40.45,
          20.75,
          36.91,
          9.64,
          15.85,
          29.19,
          16.34,
          24.67,
          11.99,
          10.5,
          22.17,
          24.38,
          36.39,
          11.19,
          34.16,
          34.13,
          23,
          13.46,
          16.64,
          16.33,
          19.4,
          23.74,
          43.79,
          10.72,
          15.43,
          12.17,
          12.49,
          13.07,
          17,
          25.04,
          null,
          19.16,
          15.96,
          29.98,
          42.13,
          32.26,
          8.47,
          10.2,
          null,
          null,
          null,
          null,
          null,
          null,
          9.23,
          8.88,
          13.77,
          14.48,
          null,
          15.22,
          15.33,
          null,
          null,
          7.42,
          13.45,
          12.56,
          13.8,
          13,
          14.33,
          null,
          null,
          null,
          null,
          null,
          null,
          12.67,
          11.33,
          null,
          10.91,
          12.11,
          null,
          10.9,
          14.08,
          9.84,
          11.91,
          11.1,
          11.26,
          null,
          9.88,
          null,
          16.13,
          22.89,
          16.82,
          null,
          18.32,
          10.86,
          10.31,
          null,
          null,
          31.11,
          null,
          null,
          22.99,
          30.24
         ],
         "xaxis": "x",
         "y": [
          13.89,
          6.58,
          4.31,
          6.96,
          11.49,
          5.69,
          7.33,
          9.34,
          7.14,
          9.42,
          7.07,
          7.05,
          2.69,
          5.61,
          8.44,
          13.36,
          9.63,
          5.97,
          8.21,
          6.69,
          6.52,
          9.75,
          13.39,
          6.58,
          3.52,
          14.44,
          11.72,
          7.96,
          9.27,
          7.68,
          10.11,
          8.42,
          6.11,
          13.8,
          14.28,
          6,
          7.53,
          5.4,
          7.57,
          10.07,
          10,
          4.55,
          9.55,
          12.18,
          7.72,
          6.62,
          10.34,
          10.25,
          7.73,
          7.91,
          4.55,
          5.06,
          4.77,
          5.69,
          8.19,
          7.52,
          12.4,
          8.19,
          6.04,
          9.83,
          9.16,
          13.12,
          7.15,
          10.82,
          11.42,
          7.22,
          11.09,
          8.08,
          4.77,
          9.46,
          14.33,
          7.32,
          7.83,
          5.17,
          12.73,
          6.28,
          7.32,
          6.37,
          5.94,
          3.77,
          6.48,
          5.15,
          10.19,
          6.7,
          9.51,
          3.79,
          8.21,
          6.89,
          7.12,
          9.21,
          6.75,
          null,
          2.18,
          6.65,
          7.63,
          14.31,
          4.88,
          14.89,
          9.69,
          3.58,
          7.12,
          14.27,
          7.24,
          9.08,
          6.81,
          8.41,
          5.03,
          3.89,
          12.89,
          9.09,
          4.21,
          8.2,
          6.91,
          5.26,
          4.23,
          12.59,
          9.24,
          6.35,
          9.43,
          4.81,
          12.1,
          13.91,
          5.87,
          6.56,
          8.66,
          7.36,
          5.08,
          12.42,
          12.9,
          8.12,
          3.36,
          6.49,
          7.99,
          4.81,
          6.53,
          4.68,
          6.01,
          6.11,
          10.19,
          11.02,
          1.53,
          11.9,
          13.69,
          8.96,
          7.09,
          7.42,
          7.18,
          5.32,
          8.45,
          7.24,
          3.33,
          8.46,
          13.66,
          6.89,
          10.81,
          3.43,
          9.74,
          11.37,
          3.85,
          13.62,
          9.91,
          8.18,
          9.04,
          6.11,
          7.66,
          6.13,
          13.56,
          9.4,
          8.13,
          4,
          6.18,
          8,
          7.8,
          6.1,
          7.26,
          4.85,
          8.56,
          5.98,
          5.88,
          6.13,
          8.74,
          10.69,
          14.46,
          1.97,
          9.35,
          8.15,
          9.45,
          5.3,
          4.09,
          null,
          5.31,
          5.93,
          6.28,
          12.67,
          10.13,
          7.11,
          10.2,
          null,
          null,
          null,
          null,
          null,
          null,
          7.07,
          4.22,
          8.71,
          8.49,
          null,
          5.02,
          5.52,
          null,
          null,
          9.72,
          5.06,
          8.18,
          8.2,
          4.51,
          8.03,
          null,
          null,
          null,
          null,
          null,
          null,
          4.57,
          8.23,
          null,
          4.99,
          5.53,
          null,
          4.9,
          8.37,
          8.78,
          7.68,
          10.06,
          6.3,
          null,
          7.44,
          null,
          3.1,
          4.75,
          5.12,
          null,
          3.71,
          8.67,
          8.54,
          null,
          null,
          3.04,
          null,
          null,
          3.5,
          8.34
         ],
         "yaxis": "y"
        }
       ],
       "layout": {
        "coloraxis": {
         "colorbar": {
          "title": {
           "text": "death_rate"
          }
         },
         "colorscale": [
          [
           0,
           "#0d0887"
          ],
          [
           0.1111111111111111,
           "#46039f"
          ],
          [
           0.2222222222222222,
           "#7201a8"
          ],
          [
           0.3333333333333333,
           "#9c179e"
          ],
          [
           0.4444444444444444,
           "#bd3786"
          ],
          [
           0.5555555555555556,
           "#d8576b"
          ],
          [
           0.6666666666666666,
           "#ed7953"
          ],
          [
           0.7777777777777778,
           "#fb9f3a"
          ],
          [
           0.8888888888888888,
           "#fdca26"
          ],
          [
           1,
           "#f0f921"
          ]
         ]
        },
        "legend": {
         "tracegroupgap": 0
        },
        "margin": {
         "t": 60
        },
        "template": {
         "data": {
          "bar": [
           {
            "error_x": {
             "color": "#2a3f5f"
            },
            "error_y": {
             "color": "#2a3f5f"
            },
            "marker": {
             "line": {
              "color": "#E5ECF6",
              "width": 0.5
             },
             "pattern": {
              "fillmode": "overlay",
              "size": 10,
              "solidity": 0.2
             }
            },
            "type": "bar"
           }
          ],
          "barpolar": [
           {
            "marker": {
             "line": {
              "color": "#E5ECF6",
              "width": 0.5
             },
             "pattern": {
              "fillmode": "overlay",
              "size": 10,
              "solidity": 0.2
             }
            },
            "type": "barpolar"
           }
          ],
          "carpet": [
           {
            "aaxis": {
             "endlinecolor": "#2a3f5f",
             "gridcolor": "white",
             "linecolor": "white",
             "minorgridcolor": "white",
             "startlinecolor": "#2a3f5f"
            },
            "baxis": {
             "endlinecolor": "#2a3f5f",
             "gridcolor": "white",
             "linecolor": "white",
             "minorgridcolor": "white",
             "startlinecolor": "#2a3f5f"
            },
            "type": "carpet"
           }
          ],
          "choropleth": [
           {
            "colorbar": {
             "outlinewidth": 0,
             "ticks": ""
            },
            "type": "choropleth"
           }
          ],
          "contour": [
           {
            "colorbar": {
             "outlinewidth": 0,
             "ticks": ""
            },
            "colorscale": [
             [
              0,
              "#0d0887"
             ],
             [
              0.1111111111111111,
              "#46039f"
             ],
             [
              0.2222222222222222,
              "#7201a8"
             ],
             [
              0.3333333333333333,
              "#9c179e"
             ],
             [
              0.4444444444444444,
              "#bd3786"
             ],
             [
              0.5555555555555556,
              "#d8576b"
             ],
             [
              0.6666666666666666,
              "#ed7953"
             ],
             [
              0.7777777777777778,
              "#fb9f3a"
             ],
             [
              0.8888888888888888,
              "#fdca26"
             ],
             [
              1,
              "#f0f921"
             ]
            ],
            "type": "contour"
           }
          ],
          "contourcarpet": [
           {
            "colorbar": {
             "outlinewidth": 0,
             "ticks": ""
            },
            "type": "contourcarpet"
           }
          ],
          "heatmap": [
           {
            "colorbar": {
             "outlinewidth": 0,
             "ticks": ""
            },
            "colorscale": [
             [
              0,
              "#0d0887"
             ],
             [
              0.1111111111111111,
              "#46039f"
             ],
             [
              0.2222222222222222,
              "#7201a8"
             ],
             [
              0.3333333333333333,
              "#9c179e"
             ],
             [
              0.4444444444444444,
              "#bd3786"
             ],
             [
              0.5555555555555556,
              "#d8576b"
             ],
             [
              0.6666666666666666,
              "#ed7953"
             ],
             [
              0.7777777777777778,
              "#fb9f3a"
             ],
             [
              0.8888888888888888,
              "#fdca26"
             ],
             [
              1,
              "#f0f921"
             ]
            ],
            "type": "heatmap"
           }
          ],
          "heatmapgl": [
           {
            "colorbar": {
             "outlinewidth": 0,
             "ticks": ""
            },
            "colorscale": [
             [
              0,
              "#0d0887"
             ],
             [
              0.1111111111111111,
              "#46039f"
             ],
             [
              0.2222222222222222,
              "#7201a8"
             ],
             [
              0.3333333333333333,
              "#9c179e"
             ],
             [
              0.4444444444444444,
              "#bd3786"
             ],
             [
              0.5555555555555556,
              "#d8576b"
             ],
             [
              0.6666666666666666,
              "#ed7953"
             ],
             [
              0.7777777777777778,
              "#fb9f3a"
             ],
             [
              0.8888888888888888,
              "#fdca26"
             ],
             [
              1,
              "#f0f921"
             ]
            ],
            "type": "heatmapgl"
           }
          ],
          "histogram": [
           {
            "marker": {
             "pattern": {
              "fillmode": "overlay",
              "size": 10,
              "solidity": 0.2
             }
            },
            "type": "histogram"
           }
          ],
          "histogram2d": [
           {
            "colorbar": {
             "outlinewidth": 0,
             "ticks": ""
            },
            "colorscale": [
             [
              0,
              "#0d0887"
             ],
             [
              0.1111111111111111,
              "#46039f"
             ],
             [
              0.2222222222222222,
              "#7201a8"
             ],
             [
              0.3333333333333333,
              "#9c179e"
             ],
             [
              0.4444444444444444,
              "#bd3786"
             ],
             [
              0.5555555555555556,
              "#d8576b"
             ],
             [
              0.6666666666666666,
              "#ed7953"
             ],
             [
              0.7777777777777778,
              "#fb9f3a"
             ],
             [
              0.8888888888888888,
              "#fdca26"
             ],
             [
              1,
              "#f0f921"
             ]
            ],
            "type": "histogram2d"
           }
          ],
          "histogram2dcontour": [
           {
            "colorbar": {
             "outlinewidth": 0,
             "ticks": ""
            },
            "colorscale": [
             [
              0,
              "#0d0887"
             ],
             [
              0.1111111111111111,
              "#46039f"
             ],
             [
              0.2222222222222222,
              "#7201a8"
             ],
             [
              0.3333333333333333,
              "#9c179e"
             ],
             [
              0.4444444444444444,
              "#bd3786"
             ],
             [
              0.5555555555555556,
              "#d8576b"
             ],
             [
              0.6666666666666666,
              "#ed7953"
             ],
             [
              0.7777777777777778,
              "#fb9f3a"
             ],
             [
              0.8888888888888888,
              "#fdca26"
             ],
             [
              1,
              "#f0f921"
             ]
            ],
            "type": "histogram2dcontour"
           }
          ],
          "mesh3d": [
           {
            "colorbar": {
             "outlinewidth": 0,
             "ticks": ""
            },
            "type": "mesh3d"
           }
          ],
          "parcoords": [
           {
            "line": {
             "colorbar": {
              "outlinewidth": 0,
              "ticks": ""
             }
            },
            "type": "parcoords"
           }
          ],
          "pie": [
           {
            "automargin": true,
            "type": "pie"
           }
          ],
          "scatter": [
           {
            "fillpattern": {
             "fillmode": "overlay",
             "size": 10,
             "solidity": 0.2
            },
            "type": "scatter"
           }
          ],
          "scatter3d": [
           {
            "line": {
             "colorbar": {
              "outlinewidth": 0,
              "ticks": ""
             }
            },
            "marker": {
             "colorbar": {
              "outlinewidth": 0,
              "ticks": ""
             }
            },
            "type": "scatter3d"
           }
          ],
          "scattercarpet": [
           {
            "marker": {
             "colorbar": {
              "outlinewidth": 0,
              "ticks": ""
             }
            },
            "type": "scattercarpet"
           }
          ],
          "scattergeo": [
           {
            "marker": {
             "colorbar": {
              "outlinewidth": 0,
              "ticks": ""
             }
            },
            "type": "scattergeo"
           }
          ],
          "scattergl": [
           {
            "marker": {
             "colorbar": {
              "outlinewidth": 0,
              "ticks": ""
             }
            },
            "type": "scattergl"
           }
          ],
          "scattermapbox": [
           {
            "marker": {
             "colorbar": {
              "outlinewidth": 0,
              "ticks": ""
             }
            },
            "type": "scattermapbox"
           }
          ],
          "scatterpolar": [
           {
            "marker": {
             "colorbar": {
              "outlinewidth": 0,
              "ticks": ""
             }
            },
            "type": "scatterpolar"
           }
          ],
          "scatterpolargl": [
           {
            "marker": {
             "colorbar": {
              "outlinewidth": 0,
              "ticks": ""
             }
            },
            "type": "scatterpolargl"
           }
          ],
          "scatterternary": [
           {
            "marker": {
             "colorbar": {
              "outlinewidth": 0,
              "ticks": ""
             }
            },
            "type": "scatterternary"
           }
          ],
          "surface": [
           {
            "colorbar": {
             "outlinewidth": 0,
             "ticks": ""
            },
            "colorscale": [
             [
              0,
              "#0d0887"
             ],
             [
              0.1111111111111111,
              "#46039f"
             ],
             [
              0.2222222222222222,
              "#7201a8"
             ],
             [
              0.3333333333333333,
              "#9c179e"
             ],
             [
              0.4444444444444444,
              "#bd3786"
             ],
             [
              0.5555555555555556,
              "#d8576b"
             ],
             [
              0.6666666666666666,
              "#ed7953"
             ],
             [
              0.7777777777777778,
              "#fb9f3a"
             ],
             [
              0.8888888888888888,
              "#fdca26"
             ],
             [
              1,
              "#f0f921"
             ]
            ],
            "type": "surface"
           }
          ],
          "table": [
           {
            "cells": {
             "fill": {
              "color": "#EBF0F8"
             },
             "line": {
              "color": "white"
             }
            },
            "header": {
             "fill": {
              "color": "#C8D4E3"
             },
             "line": {
              "color": "white"
             }
            },
            "type": "table"
           }
          ]
         },
         "layout": {
          "annotationdefaults": {
           "arrowcolor": "#2a3f5f",
           "arrowhead": 0,
           "arrowwidth": 1
          },
          "autotypenumbers": "strict",
          "coloraxis": {
           "colorbar": {
            "outlinewidth": 0,
            "ticks": ""
           }
          },
          "colorscale": {
           "diverging": [
            [
             0,
             "#8e0152"
            ],
            [
             0.1,
             "#c51b7d"
            ],
            [
             0.2,
             "#de77ae"
            ],
            [
             0.3,
             "#f1b6da"
            ],
            [
             0.4,
             "#fde0ef"
            ],
            [
             0.5,
             "#f7f7f7"
            ],
            [
             0.6,
             "#e6f5d0"
            ],
            [
             0.7,
             "#b8e186"
            ],
            [
             0.8,
             "#7fbc41"
            ],
            [
             0.9,
             "#4d9221"
            ],
            [
             1,
             "#276419"
            ]
           ],
           "sequential": [
            [
             0,
             "#0d0887"
            ],
            [
             0.1111111111111111,
             "#46039f"
            ],
            [
             0.2222222222222222,
             "#7201a8"
            ],
            [
             0.3333333333333333,
             "#9c179e"
            ],
            [
             0.4444444444444444,
             "#bd3786"
            ],
            [
             0.5555555555555556,
             "#d8576b"
            ],
            [
             0.6666666666666666,
             "#ed7953"
            ],
            [
             0.7777777777777778,
             "#fb9f3a"
            ],
            [
             0.8888888888888888,
             "#fdca26"
            ],
            [
             1,
             "#f0f921"
            ]
           ],
           "sequentialminus": [
            [
             0,
             "#0d0887"
            ],
            [
             0.1111111111111111,
             "#46039f"
            ],
            [
             0.2222222222222222,
             "#7201a8"
            ],
            [
             0.3333333333333333,
             "#9c179e"
            ],
            [
             0.4444444444444444,
             "#bd3786"
            ],
            [
             0.5555555555555556,
             "#d8576b"
            ],
            [
             0.6666666666666666,
             "#ed7953"
            ],
            [
             0.7777777777777778,
             "#fb9f3a"
            ],
            [
             0.8888888888888888,
             "#fdca26"
            ],
            [
             1,
             "#f0f921"
            ]
           ]
          },
          "colorway": [
           "#636efa",
           "#EF553B",
           "#00cc96",
           "#ab63fa",
           "#FFA15A",
           "#19d3f3",
           "#FF6692",
           "#B6E880",
           "#FF97FF",
           "#FECB52"
          ],
          "font": {
           "color": "#2a3f5f"
          },
          "geo": {
           "bgcolor": "white",
           "lakecolor": "white",
           "landcolor": "#E5ECF6",
           "showlakes": true,
           "showland": true,
           "subunitcolor": "white"
          },
          "hoverlabel": {
           "align": "left"
          },
          "hovermode": "closest",
          "mapbox": {
           "style": "light"
          },
          "paper_bgcolor": "white",
          "plot_bgcolor": "#E5ECF6",
          "polar": {
           "angularaxis": {
            "gridcolor": "white",
            "linecolor": "white",
            "ticks": ""
           },
           "bgcolor": "#E5ECF6",
           "radialaxis": {
            "gridcolor": "white",
            "linecolor": "white",
            "ticks": ""
           }
          },
          "scene": {
           "xaxis": {
            "backgroundcolor": "#E5ECF6",
            "gridcolor": "white",
            "gridwidth": 2,
            "linecolor": "white",
            "showbackground": true,
            "ticks": "",
            "zerolinecolor": "white"
           },
           "yaxis": {
            "backgroundcolor": "#E5ECF6",
            "gridcolor": "white",
            "gridwidth": 2,
            "linecolor": "white",
            "showbackground": true,
            "ticks": "",
            "zerolinecolor": "white"
           },
           "zaxis": {
            "backgroundcolor": "#E5ECF6",
            "gridcolor": "white",
            "gridwidth": 2,
            "linecolor": "white",
            "showbackground": true,
            "ticks": "",
            "zerolinecolor": "white"
           }
          },
          "shapedefaults": {
           "line": {
            "color": "#2a3f5f"
           }
          },
          "ternary": {
           "aaxis": {
            "gridcolor": "white",
            "linecolor": "white",
            "ticks": ""
           },
           "baxis": {
            "gridcolor": "white",
            "linecolor": "white",
            "ticks": ""
           },
           "bgcolor": "#E5ECF6",
           "caxis": {
            "gridcolor": "white",
            "linecolor": "white",
            "ticks": ""
           }
          },
          "title": {
           "x": 0.05
          },
          "xaxis": {
           "automargin": true,
           "gridcolor": "white",
           "linecolor": "white",
           "ticks": "",
           "title": {
            "standoff": 15
           },
           "zerolinecolor": "white",
           "zerolinewidth": 2
          },
          "yaxis": {
           "automargin": true,
           "gridcolor": "white",
           "linecolor": "white",
           "ticks": "",
           "title": {
            "standoff": 15
           },
           "zerolinecolor": "white",
           "zerolinewidth": 2
          }
         }
        },
        "title": {
         "text": "death_rate",
         "x": 0.5
        },
        "xaxis": {
         "anchor": "y",
         "domain": [
          0,
          1
         ],
         "title": {
          "text": "birth_rate"
         },
         "type": "log"
        },
        "yaxis": {
         "anchor": "x",
         "domain": [
          0,
          1
         ],
         "title": {
          "text": "death_rate"
         }
        }
       }
      },
      "text/html": [
       "<div>                            <div id=\"7f8d00a3-f538-485c-9140-6ea19057f647\" class=\"plotly-graph-div\" style=\"height:525px; width:100%;\"></div>            <script type=\"text/javascript\">                require([\"plotly\"], function(Plotly) {                    window.PLOTLYENV=window.PLOTLYENV || {};                                    if (document.getElementById(\"7f8d00a3-f538-485c-9140-6ea19057f647\")) {                    Plotly.newPlot(                        \"7f8d00a3-f538-485c-9140-6ea19057f647\",                        [{\"hovertemplate\":\"birth_rate=%{x}<br>death_rate=%{marker.color}<br>name=%{text}<extra></extra>\",\"legendgroup\":\"\",\"marker\":{\"color\":[13.89,6.58,4.31,6.96,11.49,5.69,7.33,9.34,7.14,9.42,7.07,7.05,2.69,5.61,8.44,13.36,9.63,5.97,8.21,6.69,6.52,9.75,13.39,6.58,3.52,14.44,11.72,7.96,9.27,7.68,10.11,8.42,6.11,13.8,14.28,6.0,7.53,5.4,7.57,10.07,10.0,4.55,9.55,12.18,7.72,6.62,10.34,10.25,7.73,7.91,4.55,5.06,4.77,5.69,8.19,7.52,12.4,8.19,6.04,9.83,9.16,13.12,7.15,10.82,11.42,7.22,11.09,8.08,4.77,9.46,14.33,7.32,7.83,5.17,12.73,6.28,7.32,6.37,5.94,3.77,6.48,5.15,10.19,6.7,9.51,3.79,8.21,6.89,7.12,9.21,6.75,null,2.18,6.65,7.63,14.31,4.88,14.89,9.69,3.58,7.12,14.27,7.24,9.08,6.81,8.41,5.03,3.89,12.89,9.09,4.21,8.2,6.91,5.26,4.23,12.59,9.24,6.35,9.43,4.81,12.1,13.91,5.87,6.56,8.66,7.36,5.08,12.42,12.9,8.12,3.36,6.49,7.99,4.81,6.53,4.68,6.01,6.11,10.19,11.02,1.53,11.9,13.69,8.96,7.09,7.42,7.18,5.32,8.45,7.24,3.33,8.46,13.66,6.89,10.81,3.43,9.74,11.37,3.85,13.62,9.91,8.18,9.04,6.11,7.66,6.13,13.56,9.4,8.13,4.0,6.18,8.0,7.8,6.1,7.26,4.85,8.56,5.98,5.88,6.13,8.74,10.69,14.46,1.97,9.35,8.15,9.45,5.3,4.09,null,5.31,5.93,6.28,12.67,10.13,7.11,10.2,null,null,null,null,null,null,7.07,4.22,8.71,8.49,null,5.02,5.52,null,null,9.72,5.06,8.18,8.2,4.51,8.03,null,null,null,null,null,null,4.57,8.23,null,4.99,5.53,null,4.9,8.37,8.78,7.68,10.06,6.3,null,7.44,null,3.1,4.75,5.12,null,3.71,8.67,8.54,null,null,3.04,null,null,3.5,8.34],\"coloraxis\":\"coloraxis\",\"symbol\":\"circle\"},\"mode\":\"markers+text\",\"name\":\"\",\"orientation\":\"v\",\"showlegend\":false,\"text\":[\"Afghanistan\",\"Albania\",\"Algeria\",\"Andorra\",\"Angola\",\"Antigua and Barbuda\",\"Argentina\",\"Armenia\",\"Australia\",\"Austria\",\"Azerbaijan\",\"Bahamas, The\",\"Bahrain\",\"Bangladesh\",\"Barbados\",\"Belarus\",\"Belgium\",\"Belize\",\"Benin\",\"Bhutan\",\"Bolivia\",\"Bosnia and Herzegovina\",\"Botswana\",\"Brazil\",\"Brunei\",\"Bulgaria\",\"Burkina Faso\",\"Burma\",\"Burundi\",\"Cambodia\",\"Cameroon\",\"Canada\",\"Cabo Verde\",\"Central African Republic\",\"Chad\",\"Chile\",\"China\",\"Colombia\",\"Comoros\",\"Congo, Democratic Republic of the\",\"Congo, Republic of the\",\"Costa Rica\",\"Cote d'Ivoire\",\"Croatia\",\"Cuba\",\"Cyprus\",\"Czech Republic\",\"Denmark\",\"Djibouti\",\"Dominica\",\"Dominican Republic\",\"Ecuador\",\"Egypt\",\"El Salvador\",\"Equatorial Guinea\",\"Eritrea\",\"Estonia\",\"Ethiopia\",\"Fiji\",\"Finland\",\"France\",\"Gabon\",\"Gambia, The\",\"Georgia\",\"Germany\",\"Ghana\",\"Greece\",\"Grenada\",\"Guatemala\",\"Guinea\",\"Guinea-Bissau\",\"Guyana\",\"Haiti\",\"Honduras\",\"Hungary\",\"Iceland\",\"India\",\"Indonesia\",\"Iran\",\"Iraq\",\"Ireland\",\"Israel\",\"Italy\",\"Jamaica\",\"Japan\",\"Jordan\",\"Kazakhstan\",\"Kenya\",\"Kiribati\",\"Korea, North\",\"Korea, South\",\"Kosovo\",\"Kuwait\",\"Kyrgyzstan\",\"Laos\",\"Latvia\",\"Lebanon\",\"Lesotho\",\"Liberia\",\"Libya\",\"Liechtenstein\",\"Lithuania\",\"Luxembourg\",\"Macedonia\",\"Madagascar\",\"Malawi\",\"Malaysia\",\"Maldives\",\"Mali\",\"Malta\",\"Marshall Islands\",\"Mauritania\",\"Mauritius\",\"Mexico\",\"Micronesia, Federated States of\",\"Moldova\",\"Monaco\",\"Mongolia\",\"Montenegro\",\"Morocco\",\"Mozambique\",\"Namibia\",\"Nauru\",\"Nepal\",\"Netherlands\",\"New Zealand\",\"Nicaragua\",\"Niger\",\"Nigeria\",\"Norway\",\"Oman\",\"Pakistan\",\"Palau\",\"Panama\",\"Papua New Guinea\",\"Paraguay\",\"Peru\",\"Philippines\",\"Poland\",\"Portugal\",\"Qatar\",\"Romania\",\"Russia\",\"Rwanda\",\"Saint Kitts and Nevis\",\"Saint Lucia\",\"Saint Vincent and the Grenadines\",\"Samoa\",\"San Marino\",\"Sao Tome and Principe\",\"Saudi Arabia\",\"Senegal\",\"Serbia\",\"Seychelles\",\"Sierra Leone\",\"Singapore\",\"Slovakia\",\"Slovenia\",\"Solomon Islands\",\"Somalia\",\"South Africa\",\"South Sudan\",\"Spain\",\"Sri Lanka\",\"Sudan\",\"Suriname\",\"Swaziland\",\"Sweden\",\"Switzerland\",\"Syria\",\"Tajikistan\",\"Tanzania\",\"Thailand\",\"Timor-Leste\",\"Togo\",\"Tonga\",\"Trinidad and Tobago\",\"Tunisia\",\"Turkey\",\"Turkmenistan\",\"Tuvalu\",\"Uganda\",\"Ukraine\",\"United Arab Emirates\",\"United Kingdom\",\"United States\",\"Uruguay\",\"Uzbekistan\",\"Vanuatu\",\"Holy See (Vatican City)\",\"Venezuela\",\"Vietnam\",\"Yemen\",\"Zambia\",\"Zimbabwe\",\"Taiwan\",\"European Union\",\"Ashmore and Cartier Islands\",\"Christmas Island\",\"Cocos (Keeling) Islands\",\"Coral Sea Islands\",\"Heard Island and McDonald Islands\",\"Norfolk Island\",\"Hong Kong\",\"Macau\",\"Faroe Islands\",\"Greenland\",\"Clipperton Island\",\"French Polynesia\",\"New Caledonia\",\"Saint Barthelemy\",\"Saint Martin\",\"Saint Pierre and Miquelon\",\"Wallis and Futuna\",\"Aruba\",\"Curacao\",\"Sint Maarten\",\"Cook Islands\",\"Niue\",\"Tokelau\",\"Bouvet Island\",\"Jan Mayen\",\"Svalbard\",\"Akrotiri\",\"Anguilla\",\"Bermuda\",\"British Indian Ocean Territory\",\"British Virgin Islands\",\"Cayman Islands\",\"Dhekelia\",\"Falkland Islands (Islas Malvinas)\",\"Gibraltar\",\"Guernsey\",\"Jersey\",\"Isle of Man\",\"Montserrat\",\"Pitcairn Islands\",\"Saint Helena, Ascension, and Tristan da Cunha\",\"South Georgia and South Sandwich Islands\",\"Turks and Caicos Islands\",\"American Samoa\",\"Guam\",\"Navassa Island\",\"Northern Mariana Islands\",\"Puerto Rico\",\"Virgin Islands\",\"Wake Island\",\"Antarctica\",\"Gaza Strip\",\"Paracel Islands\",\"Spratly Islands\",\"West Bank\",\"Western Sahara\"],\"x\":[38.57,12.92,23.67,8.13,38.78,15.85,16.64,13.61,12.15,9.41,16.64,15.5,13.66,21.14,11.87,10.7,11.41,24.68,36.02,17.78,22.76,8.87,20.96,14.46,17.32,8.92,42.03,18.39,42.01,23.83,36.17,10.28,20.33,35.08,36.6,13.83,12.49,16.47,27.84,34.88,35.85,15.91,28.67,9.45,9.9,11.41,9.63,10.27,23.65,15.41,18.73,18.51,22.9,16.46,33.31,30.0,10.51,37.27,19.43,10.72,12.38,34.49,30.86,12.74,8.47,31.09,8.66,16.03,24.89,35.74,33.38,15.59,22.31,23.14,9.16,13.91,19.55,16.72,17.99,31.45,14.84,18.48,8.74,18.16,7.93,25.37,19.15,26.4,21.46,14.52,8.19,null,19.91,22.98,24.25,10.0,14.59,25.47,34.41,18.03,10.45,10.1,11.37,11.55,32.61,41.56,19.71,15.75,44.99,10.18,25.6,31.34,13.29,18.78,20.54,12.0,6.65,20.25,10.42,18.2,38.58,19.8,24.95,20.64,10.83,13.33,18.03,45.45,37.64,12.14,24.44,22.58,11.05,18.32,24.38,16.37,18.28,24.27,9.74,9.27,9.84,9.14,11.6,33.75,13.5,13.7,13.57,20.87,8.63,34.23,18.51,34.52,9.08,14.19,37.03,8.27,9.91,8.42,25.77,40.45,20.75,36.91,9.64,15.85,29.19,16.34,24.67,11.99,10.5,22.17,24.38,36.39,11.19,34.16,34.13,23.0,13.46,16.64,16.33,19.4,23.74,43.79,10.72,15.43,12.17,12.49,13.07,17.0,25.04,null,19.16,15.96,29.98,42.13,32.26,8.47,10.2,null,null,null,null,null,null,9.23,8.88,13.77,14.48,null,15.22,15.33,null,null,7.42,13.45,12.56,13.8,13.0,14.33,null,null,null,null,null,null,12.67,11.33,null,10.91,12.11,null,10.9,14.08,9.84,11.91,11.1,11.26,null,9.88,null,16.13,22.89,16.82,null,18.32,10.86,10.31,null,null,31.11,null,null,22.99,30.24],\"xaxis\":\"x\",\"y\":[13.89,6.58,4.31,6.96,11.49,5.69,7.33,9.34,7.14,9.42,7.07,7.05,2.69,5.61,8.44,13.36,9.63,5.97,8.21,6.69,6.52,9.75,13.39,6.58,3.52,14.44,11.72,7.96,9.27,7.68,10.11,8.42,6.11,13.8,14.28,6.0,7.53,5.4,7.57,10.07,10.0,4.55,9.55,12.18,7.72,6.62,10.34,10.25,7.73,7.91,4.55,5.06,4.77,5.69,8.19,7.52,12.4,8.19,6.04,9.83,9.16,13.12,7.15,10.82,11.42,7.22,11.09,8.08,4.77,9.46,14.33,7.32,7.83,5.17,12.73,6.28,7.32,6.37,5.94,3.77,6.48,5.15,10.19,6.7,9.51,3.79,8.21,6.89,7.12,9.21,6.75,null,2.18,6.65,7.63,14.31,4.88,14.89,9.69,3.58,7.12,14.27,7.24,9.08,6.81,8.41,5.03,3.89,12.89,9.09,4.21,8.2,6.91,5.26,4.23,12.59,9.24,6.35,9.43,4.81,12.1,13.91,5.87,6.56,8.66,7.36,5.08,12.42,12.9,8.12,3.36,6.49,7.99,4.81,6.53,4.68,6.01,6.11,10.19,11.02,1.53,11.9,13.69,8.96,7.09,7.42,7.18,5.32,8.45,7.24,3.33,8.46,13.66,6.89,10.81,3.43,9.74,11.37,3.85,13.62,9.91,8.18,9.04,6.11,7.66,6.13,13.56,9.4,8.13,4.0,6.18,8.0,7.8,6.1,7.26,4.85,8.56,5.98,5.88,6.13,8.74,10.69,14.46,1.97,9.35,8.15,9.45,5.3,4.09,null,5.31,5.93,6.28,12.67,10.13,7.11,10.2,null,null,null,null,null,null,7.07,4.22,8.71,8.49,null,5.02,5.52,null,null,9.72,5.06,8.18,8.2,4.51,8.03,null,null,null,null,null,null,4.57,8.23,null,4.99,5.53,null,4.9,8.37,8.78,7.68,10.06,6.3,null,7.44,null,3.1,4.75,5.12,null,3.71,8.67,8.54,null,null,3.04,null,null,3.5,8.34],\"yaxis\":\"y\",\"type\":\"scatter\",\"textposition\":\"top center\"}],                        {\"template\":{\"data\":{\"histogram2dcontour\":[{\"type\":\"histogram2dcontour\",\"colorbar\":{\"outlinewidth\":0,\"ticks\":\"\"},\"colorscale\":[[0.0,\"#0d0887\"],[0.1111111111111111,\"#46039f\"],[0.2222222222222222,\"#7201a8\"],[0.3333333333333333,\"#9c179e\"],[0.4444444444444444,\"#bd3786\"],[0.5555555555555556,\"#d8576b\"],[0.6666666666666666,\"#ed7953\"],[0.7777777777777778,\"#fb9f3a\"],[0.8888888888888888,\"#fdca26\"],[1.0,\"#f0f921\"]]}],\"choropleth\":[{\"type\":\"choropleth\",\"colorbar\":{\"outlinewidth\":0,\"ticks\":\"\"}}],\"histogram2d\":[{\"type\":\"histogram2d\",\"colorbar\":{\"outlinewidth\":0,\"ticks\":\"\"},\"colorscale\":[[0.0,\"#0d0887\"],[0.1111111111111111,\"#46039f\"],[0.2222222222222222,\"#7201a8\"],[0.3333333333333333,\"#9c179e\"],[0.4444444444444444,\"#bd3786\"],[0.5555555555555556,\"#d8576b\"],[0.6666666666666666,\"#ed7953\"],[0.7777777777777778,\"#fb9f3a\"],[0.8888888888888888,\"#fdca26\"],[1.0,\"#f0f921\"]]}],\"heatmap\":[{\"type\":\"heatmap\",\"colorbar\":{\"outlinewidth\":0,\"ticks\":\"\"},\"colorscale\":[[0.0,\"#0d0887\"],[0.1111111111111111,\"#46039f\"],[0.2222222222222222,\"#7201a8\"],[0.3333333333333333,\"#9c179e\"],[0.4444444444444444,\"#bd3786\"],[0.5555555555555556,\"#d8576b\"],[0.6666666666666666,\"#ed7953\"],[0.7777777777777778,\"#fb9f3a\"],[0.8888888888888888,\"#fdca26\"],[1.0,\"#f0f921\"]]}],\"heatmapgl\":[{\"type\":\"heatmapgl\",\"colorbar\":{\"outlinewidth\":0,\"ticks\":\"\"},\"colorscale\":[[0.0,\"#0d0887\"],[0.1111111111111111,\"#46039f\"],[0.2222222222222222,\"#7201a8\"],[0.3333333333333333,\"#9c179e\"],[0.4444444444444444,\"#bd3786\"],[0.5555555555555556,\"#d8576b\"],[0.6666666666666666,\"#ed7953\"],[0.7777777777777778,\"#fb9f3a\"],[0.8888888888888888,\"#fdca26\"],[1.0,\"#f0f921\"]]}],\"contourcarpet\":[{\"type\":\"contourcarpet\",\"colorbar\":{\"outlinewidth\":0,\"ticks\":\"\"}}],\"contour\":[{\"type\":\"contour\",\"colorbar\":{\"outlinewidth\":0,\"ticks\":\"\"},\"colorscale\":[[0.0,\"#0d0887\"],[0.1111111111111111,\"#46039f\"],[0.2222222222222222,\"#7201a8\"],[0.3333333333333333,\"#9c179e\"],[0.4444444444444444,\"#bd3786\"],[0.5555555555555556,\"#d8576b\"],[0.6666666666666666,\"#ed7953\"],[0.7777777777777778,\"#fb9f3a\"],[0.8888888888888888,\"#fdca26\"],[1.0,\"#f0f921\"]]}],\"surface\":[{\"type\":\"surface\",\"colorbar\":{\"outlinewidth\":0,\"ticks\":\"\"},\"colorscale\":[[0.0,\"#0d0887\"],[0.1111111111111111,\"#46039f\"],[0.2222222222222222,\"#7201a8\"],[0.3333333333333333,\"#9c179e\"],[0.4444444444444444,\"#bd3786\"],[0.5555555555555556,\"#d8576b\"],[0.6666666666666666,\"#ed7953\"],[0.7777777777777778,\"#fb9f3a\"],[0.8888888888888888,\"#fdca26\"],[1.0,\"#f0f921\"]]}],\"mesh3d\":[{\"type\":\"mesh3d\",\"colorbar\":{\"outlinewidth\":0,\"ticks\":\"\"}}],\"scatter\":[{\"fillpattern\":{\"fillmode\":\"overlay\",\"size\":10,\"solidity\":0.2},\"type\":\"scatter\"}],\"parcoords\":[{\"type\":\"parcoords\",\"line\":{\"colorbar\":{\"outlinewidth\":0,\"ticks\":\"\"}}}],\"scatterpolargl\":[{\"type\":\"scatterpolargl\",\"marker\":{\"colorbar\":{\"outlinewidth\":0,\"ticks\":\"\"}}}],\"bar\":[{\"error_x\":{\"color\":\"#2a3f5f\"},\"error_y\":{\"color\":\"#2a3f5f\"},\"marker\":{\"line\":{\"color\":\"#E5ECF6\",\"width\":0.5},\"pattern\":{\"fillmode\":\"overlay\",\"size\":10,\"solidity\":0.2}},\"type\":\"bar\"}],\"scattergeo\":[{\"type\":\"scattergeo\",\"marker\":{\"colorbar\":{\"outlinewidth\":0,\"ticks\":\"\"}}}],\"scatterpolar\":[{\"type\":\"scatterpolar\",\"marker\":{\"colorbar\":{\"outlinewidth\":0,\"ticks\":\"\"}}}],\"histogram\":[{\"marker\":{\"pattern\":{\"fillmode\":\"overlay\",\"size\":10,\"solidity\":0.2}},\"type\":\"histogram\"}],\"scattergl\":[{\"type\":\"scattergl\",\"marker\":{\"colorbar\":{\"outlinewidth\":0,\"ticks\":\"\"}}}],\"scatter3d\":[{\"type\":\"scatter3d\",\"line\":{\"colorbar\":{\"outlinewidth\":0,\"ticks\":\"\"}},\"marker\":{\"colorbar\":{\"outlinewidth\":0,\"ticks\":\"\"}}}],\"scattermapbox\":[{\"type\":\"scattermapbox\",\"marker\":{\"colorbar\":{\"outlinewidth\":0,\"ticks\":\"\"}}}],\"scatterternary\":[{\"type\":\"scatterternary\",\"marker\":{\"colorbar\":{\"outlinewidth\":0,\"ticks\":\"\"}}}],\"scattercarpet\":[{\"type\":\"scattercarpet\",\"marker\":{\"colorbar\":{\"outlinewidth\":0,\"ticks\":\"\"}}}],\"carpet\":[{\"aaxis\":{\"endlinecolor\":\"#2a3f5f\",\"gridcolor\":\"white\",\"linecolor\":\"white\",\"minorgridcolor\":\"white\",\"startlinecolor\":\"#2a3f5f\"},\"baxis\":{\"endlinecolor\":\"#2a3f5f\",\"gridcolor\":\"white\",\"linecolor\":\"white\",\"minorgridcolor\":\"white\",\"startlinecolor\":\"#2a3f5f\"},\"type\":\"carpet\"}],\"table\":[{\"cells\":{\"fill\":{\"color\":\"#EBF0F8\"},\"line\":{\"color\":\"white\"}},\"header\":{\"fill\":{\"color\":\"#C8D4E3\"},\"line\":{\"color\":\"white\"}},\"type\":\"table\"}],\"barpolar\":[{\"marker\":{\"line\":{\"color\":\"#E5ECF6\",\"width\":0.5},\"pattern\":{\"fillmode\":\"overlay\",\"size\":10,\"solidity\":0.2}},\"type\":\"barpolar\"}],\"pie\":[{\"automargin\":true,\"type\":\"pie\"}]},\"layout\":{\"autotypenumbers\":\"strict\",\"colorway\":[\"#636efa\",\"#EF553B\",\"#00cc96\",\"#ab63fa\",\"#FFA15A\",\"#19d3f3\",\"#FF6692\",\"#B6E880\",\"#FF97FF\",\"#FECB52\"],\"font\":{\"color\":\"#2a3f5f\"},\"hovermode\":\"closest\",\"hoverlabel\":{\"align\":\"left\"},\"paper_bgcolor\":\"white\",\"plot_bgcolor\":\"#E5ECF6\",\"polar\":{\"bgcolor\":\"#E5ECF6\",\"angularaxis\":{\"gridcolor\":\"white\",\"linecolor\":\"white\",\"ticks\":\"\"},\"radialaxis\":{\"gridcolor\":\"white\",\"linecolor\":\"white\",\"ticks\":\"\"}},\"ternary\":{\"bgcolor\":\"#E5ECF6\",\"aaxis\":{\"gridcolor\":\"white\",\"linecolor\":\"white\",\"ticks\":\"\"},\"baxis\":{\"gridcolor\":\"white\",\"linecolor\":\"white\",\"ticks\":\"\"},\"caxis\":{\"gridcolor\":\"white\",\"linecolor\":\"white\",\"ticks\":\"\"}},\"coloraxis\":{\"colorbar\":{\"outlinewidth\":0,\"ticks\":\"\"}},\"colorscale\":{\"sequential\":[[0.0,\"#0d0887\"],[0.1111111111111111,\"#46039f\"],[0.2222222222222222,\"#7201a8\"],[0.3333333333333333,\"#9c179e\"],[0.4444444444444444,\"#bd3786\"],[0.5555555555555556,\"#d8576b\"],[0.6666666666666666,\"#ed7953\"],[0.7777777777777778,\"#fb9f3a\"],[0.8888888888888888,\"#fdca26\"],[1.0,\"#f0f921\"]],\"sequentialminus\":[[0.0,\"#0d0887\"],[0.1111111111111111,\"#46039f\"],[0.2222222222222222,\"#7201a8\"],[0.3333333333333333,\"#9c179e\"],[0.4444444444444444,\"#bd3786\"],[0.5555555555555556,\"#d8576b\"],[0.6666666666666666,\"#ed7953\"],[0.7777777777777778,\"#fb9f3a\"],[0.8888888888888888,\"#fdca26\"],[1.0,\"#f0f921\"]],\"diverging\":[[0,\"#8e0152\"],[0.1,\"#c51b7d\"],[0.2,\"#de77ae\"],[0.3,\"#f1b6da\"],[0.4,\"#fde0ef\"],[0.5,\"#f7f7f7\"],[0.6,\"#e6f5d0\"],[0.7,\"#b8e186\"],[0.8,\"#7fbc41\"],[0.9,\"#4d9221\"],[1,\"#276419\"]]},\"xaxis\":{\"gridcolor\":\"white\",\"linecolor\":\"white\",\"ticks\":\"\",\"title\":{\"standoff\":15},\"zerolinecolor\":\"white\",\"automargin\":true,\"zerolinewidth\":2},\"yaxis\":{\"gridcolor\":\"white\",\"linecolor\":\"white\",\"ticks\":\"\",\"title\":{\"standoff\":15},\"zerolinecolor\":\"white\",\"automargin\":true,\"zerolinewidth\":2},\"scene\":{\"xaxis\":{\"backgroundcolor\":\"#E5ECF6\",\"gridcolor\":\"white\",\"linecolor\":\"white\",\"showbackground\":true,\"ticks\":\"\",\"zerolinecolor\":\"white\",\"gridwidth\":2},\"yaxis\":{\"backgroundcolor\":\"#E5ECF6\",\"gridcolor\":\"white\",\"linecolor\":\"white\",\"showbackground\":true,\"ticks\":\"\",\"zerolinecolor\":\"white\",\"gridwidth\":2},\"zaxis\":{\"backgroundcolor\":\"#E5ECF6\",\"gridcolor\":\"white\",\"linecolor\":\"white\",\"showbackground\":true,\"ticks\":\"\",\"zerolinecolor\":\"white\",\"gridwidth\":2}},\"shapedefaults\":{\"line\":{\"color\":\"#2a3f5f\"}},\"annotationdefaults\":{\"arrowcolor\":\"#2a3f5f\",\"arrowhead\":0,\"arrowwidth\":1},\"geo\":{\"bgcolor\":\"white\",\"landcolor\":\"#E5ECF6\",\"subunitcolor\":\"white\",\"showland\":true,\"showlakes\":true,\"lakecolor\":\"white\"},\"title\":{\"x\":0.05},\"mapbox\":{\"style\":\"light\"}}},\"xaxis\":{\"anchor\":\"y\",\"domain\":[0.0,1.0],\"title\":{\"text\":\"birth_rate\"},\"type\":\"log\"},\"yaxis\":{\"anchor\":\"x\",\"domain\":[0.0,1.0],\"title\":{\"text\":\"death_rate\"}},\"coloraxis\":{\"colorbar\":{\"title\":{\"text\":\"death_rate\"}},\"colorscale\":[[0.0,\"#0d0887\"],[0.1111111111111111,\"#46039f\"],[0.2222222222222222,\"#7201a8\"],[0.3333333333333333,\"#9c179e\"],[0.4444444444444444,\"#bd3786\"],[0.5555555555555556,\"#d8576b\"],[0.6666666666666666,\"#ed7953\"],[0.7777777777777778,\"#fb9f3a\"],[0.8888888888888888,\"#fdca26\"],[1.0,\"#f0f921\"]]},\"legend\":{\"tracegroupgap\":0},\"margin\":{\"t\":60},\"title\":{\"text\":\"death_rate\",\"x\":0.5}},                        {\"responsive\": true}                    ).then(function(){\n",
       "                            \n",
       "var gd = document.getElementById('7f8d00a3-f538-485c-9140-6ea19057f647');\n",
       "var x = new MutationObserver(function (mutations, observer) {{\n",
       "        var display = window.getComputedStyle(gd).display;\n",
       "        if (!display || display === 'none') {{\n",
       "            console.log([gd, 'removed!']);\n",
       "            Plotly.purge(gd);\n",
       "            observer.disconnect();\n",
       "        }}\n",
       "}});\n",
       "\n",
       "// Listen for the removal of the full notebook cells\n",
       "var notebookContainer = gd.closest('#notebook-container');\n",
       "if (notebookContainer) {{\n",
       "    x.observe(notebookContainer, {childList: true});\n",
       "}}\n",
       "\n",
       "// Listen for the clearing of the current output cell\n",
       "var outputEl = gd.closest('.output');\n",
       "if (outputEl) {{\n",
       "    x.observe(outputEl, {childList: true});\n",
       "}}\n",
       "\n",
       "                        })                };                });            </script>        </div>"
      ]
     },
     "metadata": {},
     "output_type": "display_data"
    }
   ],
   "source": [
    "import plotly.express as px\n",
    "pd.options.plotting.backend = \"plotly\"\n",
    "df = pd.read_excel('modified2.xlsx')\n",
    "fig = px.scatter(df, x=\"birth_rate\", y=\"death_rate\", text=\"name\", log_x=True, size_max=100, color=\"death_rate\")\n",
    "fig.update_traces(textposition='top center')\n",
    "fig.update_layout(title_text='death_rate', title_x=0.5)\n",
    "fig.show()"
   ]
  },
  {
   "cell_type": "markdown",
   "id": "92ede16f",
   "metadata": {},
   "source": [
    "# 11 Back to SQL\n",
    "* The row with an outlier omitted\n",
    "* Listing the country # 1 among countries with the largest population and the smallest birth_rate (Japan)"
   ]
  },
  {
   "cell_type": "code",
   "execution_count": 295,
   "id": "9773fcb6",
   "metadata": {},
   "outputs": [
    {
     "name": "stdout",
     "output_type": "stream",
     "text": [
      " * sqlite:///factbook.db\n",
      "Done.\n"
     ]
    },
    {
     "data": {
      "text/html": [
       "<table>\n",
       "    <tr>\n",
       "        <th>id</th>\n",
       "        <th>code</th>\n",
       "        <th>name</th>\n",
       "        <th>area</th>\n",
       "        <th>area_land</th>\n",
       "        <th>area_water</th>\n",
       "        <th>population</th>\n",
       "        <th>population_growth</th>\n",
       "        <th>birth_rate</th>\n",
       "        <th>death_rate</th>\n",
       "        <th>migration_rate</th>\n",
       "        <th>min(birth_rate)</th>\n",
       "    </tr>\n",
       "    <tr>\n",
       "        <td>85</td>\n",
       "        <td>ja</td>\n",
       "        <td>Japan</td>\n",
       "        <td>377915</td>\n",
       "        <td>364485</td>\n",
       "        <td>13430</td>\n",
       "        <td>126919659</td>\n",
       "        <td>0.16</td>\n",
       "        <td>7.93</td>\n",
       "        <td>9.51</td>\n",
       "        <td>0.0</td>\n",
       "        <td>7.93</td>\n",
       "    </tr>\n",
       "</table>"
      ],
      "text/plain": [
       "[(85, 'ja', 'Japan', 377915, 364485, 13430, 126919659, 0.16, 7.93, 9.51, 0.0, 7.93)]"
      ]
     },
     "execution_count": 295,
     "metadata": {},
     "output_type": "execute_result"
    }
   ],
   "source": [
    "%%sql\n",
    "SELECT *, min(birth_rate) \n",
    "   from\n",
    "    (SELECT * \n",
    "  from facts \n",
    "WHERE coalesce (area, area_land, area_water, population_growth, birth_rate, death_rate , migration_rate)\n",
    "IS NOT NULL\n",
    "AND name <> 'World'\n",
    "AND population <> 'None'\n",
    "ORDER BY population desc, birth_rate asc\n",
    "    LIMIT 50)\n"
   ]
  }
 ],
 "metadata": {
  "kernelspec": {
   "display_name": "Python 3",
   "language": "python",
   "name": "python3"
  },
  "language_info": {
   "codemirror_mode": {
    "name": "ipython",
    "version": 3
   },
   "file_extension": ".py",
   "mimetype": "text/x-python",
   "name": "python",
   "nbconvert_exporter": "python",
   "pygments_lexer": "ipython3",
   "version": "3.8.8"
  }
 },
 "nbformat": 4,
 "nbformat_minor": 5
}
